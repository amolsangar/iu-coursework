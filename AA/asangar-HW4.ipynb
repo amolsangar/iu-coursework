{
 "cells": [
  {
   "cell_type": "markdown",
   "metadata": {
    "id": "tphaqmGSdcOr"
   },
   "source": [
    "# Name - Amol Dattatray Sangar\n",
    "# Username - asangar"
   ]
  },
  {
   "cell_type": "code",
   "execution_count": 1,
   "metadata": {
    "id": "0NhQxpHkiha3"
   },
   "outputs": [],
   "source": [
    "import random\n",
    "import numpy as np"
   ]
  },
  {
   "cell_type": "markdown",
   "metadata": {
    "id": "-PXXteTocKvb"
   },
   "source": [
    "# Problem 1\n",
    "Suppose you are given two sequences D1 and D2 of n elements, possibly containing duplicates,on which a total order relation is defined. Describe an efficient algorithm for determining if D1 and D2 contain the same set of elements. What is the running time of this method?\n"
   ]
  },
  {
   "cell_type": "code",
   "execution_count": 2,
   "metadata": {
    "id": "tYBgdIKicJzS"
   },
   "outputs": [],
   "source": [
    "def is_same(D1,D2):\n",
    "  count = set()\n",
    "  for d1 in D1:\n",
    "      count.add(d1)\n",
    "  print(\"\\nD1 Unique:\",count)\n",
    "  \n",
    "  flag = True\n",
    "  for d2 in D2:\n",
    "    if d2 in count:\n",
    "      pass\n",
    "    else:\n",
    "      # print(\"Not Same Set Of Elements\")\n",
    "      return False\n",
    "\n",
    "  return True"
   ]
  },
  {
   "cell_type": "code",
   "execution_count": 3,
   "metadata": {
    "colab": {
     "base_uri": "https://localhost:8080/"
    },
    "id": "C6IDCpqdSrqQ",
    "outputId": "a3da77e5-ac1e-4d6d-d92f-062c50affd20"
   },
   "outputs": [
    {
     "name": "stdout",
     "output_type": "stream",
     "text": [
      "D1: [1, 2, 3, 3, 5, 9]\n",
      "D2: [1, 2, 3, 5, 5, 9]\n",
      "\n",
      "D1 Unique: {1, 2, 3, 5, 9}\n",
      "\n",
      "Is Same Set of Elements? True\n"
     ]
    }
   ],
   "source": [
    "d1= [1,2,3,3,5,9]\n",
    "d2= [1,2,3,5,5,9]\n",
    "\n",
    "print(\"D1:\",d1)\n",
    "print(\"D2:\",d2)\n",
    "\n",
    "print(\"\\nIs Same Set of Elements?\",is_same(d1,d2))"
   ]
  },
  {
   "cell_type": "code",
   "execution_count": 4,
   "metadata": {
    "colab": {
     "base_uri": "https://localhost:8080/"
    },
    "id": "Iq_8pnSgR4J1",
    "outputId": "7afb5731-b705-48d3-c5ee-04f144f5eebb"
   },
   "outputs": [
    {
     "name": "stdout",
     "output_type": "stream",
     "text": [
      "D1: [1, 2, 3, 3, 5, 9]\n",
      "D2: [1, 2, 3, 4, 5, 9]\n",
      "\n",
      "D1 Unique: {1, 2, 3, 5, 9}\n",
      "\n",
      "Is Same Set of Elements? False\n"
     ]
    }
   ],
   "source": [
    "d1= [1,2,3,3,5,9]\n",
    "d2= [1,2,3,4,5,9]\n",
    "\n",
    "print(\"D1:\",d1)\n",
    "print(\"D2:\",d2)\n",
    "\n",
    "print(\"\\nIs Same Set of Elements?\",is_same(d1,d2))"
   ]
  },
  {
   "cell_type": "markdown",
   "metadata": {
    "id": "anqj-Z9YeBJl"
   },
   "source": [
    "TIme Complexity - O(n) since there is only one for loop to iterate over all the elements and the lookup time of a Set is O(1)."
   ]
  },
  {
   "cell_type": "markdown",
   "metadata": {
    "id": "LIo5gf8VeE_i"
   },
   "source": [
    "# Problem 2\n",
    "Given an array D of n integers in the range [0, n^2−1], describe a simple method for sorting D in O(n) time."
   ]
  },
  {
   "cell_type": "code",
   "execution_count": 5,
   "metadata": {
    "id": "_6795BY4pmy0"
   },
   "outputs": [],
   "source": [
    "def count_sort(arr, n, exp):\n",
    "    output = [0] * n\n",
    "    count = [0] * n\n",
    "    for i in range(n):\n",
    "      count[i] = 0\n",
    " \n",
    "    for i in range(n):\n",
    "      index = (arr[i] // exp) % n \n",
    "      count[index] += 1\n",
    "\n",
    "    for i in range(1, n):\n",
    "      count[i] += count[i - 1]\n",
    "\n",
    "    for i in range(n - 1, -1, -1):\n",
    "      index = (arr[i] // exp) % n \n",
    "      output[count[index] - 1] = arr[i]\n",
    "      count[index] -= 1\n",
    "\n",
    "    for i in range(n):\n",
    "      arr[i] = output[i]\n",
    " \n",
    "def sort(arr, n) :\n",
    "    count_sort(arr, n, 1)\n",
    "    print(\"Iteration 1:\",arr)\n",
    " \n",
    "    count_sort(arr, n, n)\n",
    "    print(\"Iteration 2:\",arr)"
   ]
  },
  {
   "cell_type": "code",
   "execution_count": 6,
   "metadata": {
    "colab": {
     "base_uri": "https://localhost:8080/"
    },
    "id": "HGVorERipp_F",
    "outputId": "d9308024-927b-43cc-b412-0ae3f81e04ad"
   },
   "outputs": [
    {
     "name": "stdout",
     "output_type": "stream",
     "text": [
      "Max No of Digits: 3\n",
      "\n",
      "Random Array: [51, 32, 41, 61, 30, 24, 28, 65, 133, 81, 78, 114]\n",
      "\n",
      "Iteration 1: [24, 61, 133, 51, 28, 41, 65, 30, 78, 114, 32, 81]\n",
      "Iteration 2: [24, 28, 30, 32, 41, 51, 61, 65, 78, 81, 114, 133]\n",
      "\n",
      "Sorted array is [24, 28, 30, 32, 41, 51, 61, 65, 78, 81, 114, 133]\n"
     ]
    }
   ],
   "source": [
    "# Array size is 12, therefore elements should be from 0 to 143\n",
    "n = 12\n",
    "no_of_digits = len(str(n**2 - 1))\n",
    "print(\"Max No of Digits:\",no_of_digits)\n",
    "\n",
    "arr = [random.randint(0, n**2-1) for _ in range(n) ]\n",
    "print(\"\\nRandom Array:\",arr)\n",
    "print(\"\")\n",
    "\n",
    "sort(arr, n)\n",
    "  \n",
    "print(\"\\nSorted array is\",arr)"
   ]
  },
  {
   "cell_type": "markdown",
   "metadata": {
    "id": "N3T5bAsPd6sO"
   },
   "source": [
    "Radix Sort takes O(d*(n+b)) time where b is the base for representing numbers.\n",
    "\n",
    "n^2-1 is the maximum possible value which means the value of d would be O(logb(n)). So overall time complexity is O((n+b)*O(logb(n)).\n",
    "\n",
    "Now if we set b as n, the value of O(logb(n)) becomes O(1) and overall time complexity becomes O(n). "
   ]
  },
  {
   "cell_type": "markdown",
   "metadata": {
    "id": "cKFhuxkyp2II"
   },
   "source": [
    "# Problem 3\n",
    "Given a sequence D of n elements, on which a total order relation is defined, describe an efficient method for determining whether there are two equal elements in D. What is the running time of your method?"
   ]
  },
  {
   "cell_type": "code",
   "execution_count": 7,
   "metadata": {
    "id": "lI6dnRRzcJak"
   },
   "outputs": [],
   "source": [
    "def check_duplicate(arr):\n",
    "  count_dict = {}\n",
    "  for ele in arr:\n",
    "    if ele in count_dict:\n",
    "      return f\"Duplicate element found {ele}\"\n",
    "    else:\n",
    "      count_dict[ele] = None\n",
    "  return \"No duplicates are present in the array\""
   ]
  },
  {
   "cell_type": "code",
   "execution_count": 8,
   "metadata": {
    "colab": {
     "base_uri": "https://localhost:8080/"
    },
    "id": "RozceQUfcJT9",
    "outputId": "50b8d3ed-b467-4d5b-b998-e688f597eb73"
   },
   "outputs": [
    {
     "name": "stdout",
     "output_type": "stream",
     "text": [
      "Random Array: [5, 5, 2, 8, 2, 9, 8, 5, 2, 5]\n",
      "Duplicate element found 5\n"
     ]
    }
   ],
   "source": [
    "arr = [random.randint(0,10) for _ in range(10) ]\n",
    "print(\"Random Array:\",arr)\n",
    "\n",
    "print(check_duplicate(arr))"
   ]
  },
  {
   "cell_type": "code",
   "execution_count": 9,
   "metadata": {
    "colab": {
     "base_uri": "https://localhost:8080/"
    },
    "id": "VDikNOITcJIh",
    "outputId": "ef956e99-d536-4f88-85d2-0de010d7aa9b"
   },
   "outputs": [
    {
     "name": "stdout",
     "output_type": "stream",
     "text": [
      "No duplicates are present in the array\n"
     ]
    }
   ],
   "source": [
    "# to choose multiple random items without including the duplicates\n",
    "d1 = random.sample(range(0,10),k=10)\n",
    "print(check_duplicate(d1))"
   ]
  },
  {
   "cell_type": "markdown",
   "metadata": {
    "id": "LA57TDa5kM1W"
   },
   "source": [
    "Running time is O(n) since there is only one 'for loop' to check all elements in another dict and dict lookup time is O(1)"
   ]
  },
  {
   "cell_type": "markdown",
   "metadata": {
    "id": "O9YJNp3Ijf71"
   },
   "source": [
    "# Problem 4 - Merge Sort\n",
    "Implement a bottom-up merge-sort for a collection of items by placing each item in its own queue, and then repeatedly merging pairs of queues until all items are sorted within a single queue."
   ]
  },
  {
   "cell_type": "code",
   "execution_count": 10,
   "metadata": {
    "id": "b--TmyjDMNqh"
   },
   "outputs": [],
   "source": [
    "def merge_list(list1, list2):\n",
    "    list1.sort()\n",
    "    list2.sort()\n",
    "\n",
    "    res=[]\n",
    "    i=0\n",
    "    j=0\n",
    "    while (i<len(list1) and j<len(list2)):\n",
    "      if(list1[i] < list2[j]):\n",
    "        res.append(list1[i])\n",
    "        i+=1\n",
    "      else:\n",
    "        res.append(list2[j])\n",
    "        j+=1\n",
    "\n",
    "    while i<len(list1):\n",
    "      res.append(list1[i])\n",
    "      i+=1\n",
    "    \n",
    "    while j<len(list2):\n",
    "      res.append(list2[j])\n",
    "      j+=1 \n",
    "\n",
    "    return res"
   ]
  },
  {
   "cell_type": "code",
   "execution_count": 11,
   "metadata": {
    "id": "ytHtPX7VSEN4"
   },
   "outputs": [],
   "source": [
    "def merge(data):\n",
    "  single_data_list=[]\n",
    "\n",
    "  for i,val in enumerate(data):\n",
    "    single_data_list.append([val])\n",
    "  \n",
    "  while len(single_data_list) != 1:\n",
    "    print(f\"Data before performing merge operation on cell size {len(single_data_list[0])} - {single_data_list}\")\n",
    "    temp=[]\n",
    "    for i in range(0,len(single_data_list)-1,2):\n",
    "      temp.append(merge_list(single_data_list[i],single_data_list[i+1]))\n",
    "      print(temp)\n",
    "    \n",
    "    if(len(single_data_list)%2 != 0):\n",
    "      temp.append(single_data_list[len(single_data_list)-1])\n",
    "      print(temp)\n",
    "    \n",
    "    single_data_list = temp\n",
    "\n",
    "    print(\"Data after merge operation\", single_data_list)\n",
    "    print(\"\")\n",
    "  \n",
    "  return [x for x in single_data_list[0]]"
   ]
  },
  {
   "cell_type": "code",
   "execution_count": 12,
   "metadata": {
    "colab": {
     "base_uri": "https://localhost:8080/"
    },
    "id": "oaMs4HmnOhyf",
    "outputId": "08d9118b-bf90-4fe6-f9ab-112af281e841"
   },
   "outputs": [
    {
     "name": "stdout",
     "output_type": "stream",
     "text": [
      "Random Input Array: [48, 29, 47, 32, 5, 49, 25, 2, 7, 9, 47, 42, 27, 8, 39, 30, 20, 49, 0, 50]\n",
      "\n",
      "Data before performing merge operation on cell size 1 - [[48], [29], [47], [32], [5], [49], [25], [2], [7], [9], [47], [42], [27], [8], [39], [30], [20], [49], [0], [50]]\n",
      "[[29, 48]]\n",
      "[[29, 48], [32, 47]]\n",
      "[[29, 48], [32, 47], [5, 49]]\n",
      "[[29, 48], [32, 47], [5, 49], [2, 25]]\n",
      "[[29, 48], [32, 47], [5, 49], [2, 25], [7, 9]]\n",
      "[[29, 48], [32, 47], [5, 49], [2, 25], [7, 9], [42, 47]]\n",
      "[[29, 48], [32, 47], [5, 49], [2, 25], [7, 9], [42, 47], [8, 27]]\n",
      "[[29, 48], [32, 47], [5, 49], [2, 25], [7, 9], [42, 47], [8, 27], [30, 39]]\n",
      "[[29, 48], [32, 47], [5, 49], [2, 25], [7, 9], [42, 47], [8, 27], [30, 39], [20, 49]]\n",
      "[[29, 48], [32, 47], [5, 49], [2, 25], [7, 9], [42, 47], [8, 27], [30, 39], [20, 49], [0, 50]]\n",
      "Data after merge operation [[29, 48], [32, 47], [5, 49], [2, 25], [7, 9], [42, 47], [8, 27], [30, 39], [20, 49], [0, 50]]\n",
      "\n",
      "Data before performing merge operation on cell size 2 - [[29, 48], [32, 47], [5, 49], [2, 25], [7, 9], [42, 47], [8, 27], [30, 39], [20, 49], [0, 50]]\n",
      "[[29, 32, 47, 48]]\n",
      "[[29, 32, 47, 48], [2, 5, 25, 49]]\n",
      "[[29, 32, 47, 48], [2, 5, 25, 49], [7, 9, 42, 47]]\n",
      "[[29, 32, 47, 48], [2, 5, 25, 49], [7, 9, 42, 47], [8, 27, 30, 39]]\n",
      "[[29, 32, 47, 48], [2, 5, 25, 49], [7, 9, 42, 47], [8, 27, 30, 39], [0, 20, 49, 50]]\n",
      "Data after merge operation [[29, 32, 47, 48], [2, 5, 25, 49], [7, 9, 42, 47], [8, 27, 30, 39], [0, 20, 49, 50]]\n",
      "\n",
      "Data before performing merge operation on cell size 4 - [[29, 32, 47, 48], [2, 5, 25, 49], [7, 9, 42, 47], [8, 27, 30, 39], [0, 20, 49, 50]]\n",
      "[[2, 5, 25, 29, 32, 47, 48, 49]]\n",
      "[[2, 5, 25, 29, 32, 47, 48, 49], [7, 8, 9, 27, 30, 39, 42, 47]]\n",
      "[[2, 5, 25, 29, 32, 47, 48, 49], [7, 8, 9, 27, 30, 39, 42, 47], [0, 20, 49, 50]]\n",
      "Data after merge operation [[2, 5, 25, 29, 32, 47, 48, 49], [7, 8, 9, 27, 30, 39, 42, 47], [0, 20, 49, 50]]\n",
      "\n",
      "Data before performing merge operation on cell size 8 - [[2, 5, 25, 29, 32, 47, 48, 49], [7, 8, 9, 27, 30, 39, 42, 47], [0, 20, 49, 50]]\n",
      "[[2, 5, 7, 8, 9, 25, 27, 29, 30, 32, 39, 42, 47, 47, 48, 49]]\n",
      "[[2, 5, 7, 8, 9, 25, 27, 29, 30, 32, 39, 42, 47, 47, 48, 49], [0, 20, 49, 50]]\n",
      "Data after merge operation [[2, 5, 7, 8, 9, 25, 27, 29, 30, 32, 39, 42, 47, 47, 48, 49], [0, 20, 49, 50]]\n",
      "\n",
      "Data before performing merge operation on cell size 16 - [[2, 5, 7, 8, 9, 25, 27, 29, 30, 32, 39, 42, 47, 47, 48, 49], [0, 20, 49, 50]]\n",
      "[[0, 2, 5, 7, 8, 9, 20, 25, 27, 29, 30, 32, 39, 42, 47, 47, 48, 49, 49, 50]]\n",
      "Data after merge operation [[0, 2, 5, 7, 8, 9, 20, 25, 27, 29, 30, 32, 39, 42, 47, 47, 48, 49, 49, 50]]\n",
      "\n",
      "Data after sorting [0, 2, 5, 7, 8, 9, 20, 25, 27, 29, 30, 32, 39, 42, 47, 47, 48, 49, 49, 50]\n"
     ]
    }
   ],
   "source": [
    "arr = [random.randint(0,50) for _ in range(20) ]\n",
    "print(\"Random Input Array:\",arr)\n",
    "print(\"\")\n",
    "\n",
    "print(\"Data after sorting\",merge(arr))"
   ]
  },
  {
   "cell_type": "markdown",
   "metadata": {
    "id": "xkqDGn-gO8BM"
   },
   "source": [
    "Sequential Array Test for Merge Sort"
   ]
  },
  {
   "cell_type": "code",
   "execution_count": 13,
   "metadata": {
    "colab": {
     "base_uri": "https://localhost:8080/"
    },
    "id": "ndBrseI6O62Z",
    "outputId": "579b5bcb-0655-40f2-9e34-4852af90fe36"
   },
   "outputs": [
    {
     "name": "stdout",
     "output_type": "stream",
     "text": [
      "Sequential Input Array: [0, 1, 2, 3, 4, 5, 6, 7, 8, 9, 10, 11, 12, 13, 14, 15, 16, 17, 18, 19]\n",
      "\n",
      "Data before performing merge operation on cell size 1 - [[0], [1], [2], [3], [4], [5], [6], [7], [8], [9], [10], [11], [12], [13], [14], [15], [16], [17], [18], [19]]\n",
      "[[0, 1]]\n",
      "[[0, 1], [2, 3]]\n",
      "[[0, 1], [2, 3], [4, 5]]\n",
      "[[0, 1], [2, 3], [4, 5], [6, 7]]\n",
      "[[0, 1], [2, 3], [4, 5], [6, 7], [8, 9]]\n",
      "[[0, 1], [2, 3], [4, 5], [6, 7], [8, 9], [10, 11]]\n",
      "[[0, 1], [2, 3], [4, 5], [6, 7], [8, 9], [10, 11], [12, 13]]\n",
      "[[0, 1], [2, 3], [4, 5], [6, 7], [8, 9], [10, 11], [12, 13], [14, 15]]\n",
      "[[0, 1], [2, 3], [4, 5], [6, 7], [8, 9], [10, 11], [12, 13], [14, 15], [16, 17]]\n",
      "[[0, 1], [2, 3], [4, 5], [6, 7], [8, 9], [10, 11], [12, 13], [14, 15], [16, 17], [18, 19]]\n",
      "Data after merge operation [[0, 1], [2, 3], [4, 5], [6, 7], [8, 9], [10, 11], [12, 13], [14, 15], [16, 17], [18, 19]]\n",
      "\n",
      "Data before performing merge operation on cell size 2 - [[0, 1], [2, 3], [4, 5], [6, 7], [8, 9], [10, 11], [12, 13], [14, 15], [16, 17], [18, 19]]\n",
      "[[0, 1, 2, 3]]\n",
      "[[0, 1, 2, 3], [4, 5, 6, 7]]\n",
      "[[0, 1, 2, 3], [4, 5, 6, 7], [8, 9, 10, 11]]\n",
      "[[0, 1, 2, 3], [4, 5, 6, 7], [8, 9, 10, 11], [12, 13, 14, 15]]\n",
      "[[0, 1, 2, 3], [4, 5, 6, 7], [8, 9, 10, 11], [12, 13, 14, 15], [16, 17, 18, 19]]\n",
      "Data after merge operation [[0, 1, 2, 3], [4, 5, 6, 7], [8, 9, 10, 11], [12, 13, 14, 15], [16, 17, 18, 19]]\n",
      "\n",
      "Data before performing merge operation on cell size 4 - [[0, 1, 2, 3], [4, 5, 6, 7], [8, 9, 10, 11], [12, 13, 14, 15], [16, 17, 18, 19]]\n",
      "[[0, 1, 2, 3, 4, 5, 6, 7]]\n",
      "[[0, 1, 2, 3, 4, 5, 6, 7], [8, 9, 10, 11, 12, 13, 14, 15]]\n",
      "[[0, 1, 2, 3, 4, 5, 6, 7], [8, 9, 10, 11, 12, 13, 14, 15], [16, 17, 18, 19]]\n",
      "Data after merge operation [[0, 1, 2, 3, 4, 5, 6, 7], [8, 9, 10, 11, 12, 13, 14, 15], [16, 17, 18, 19]]\n",
      "\n",
      "Data before performing merge operation on cell size 8 - [[0, 1, 2, 3, 4, 5, 6, 7], [8, 9, 10, 11, 12, 13, 14, 15], [16, 17, 18, 19]]\n",
      "[[0, 1, 2, 3, 4, 5, 6, 7, 8, 9, 10, 11, 12, 13, 14, 15]]\n",
      "[[0, 1, 2, 3, 4, 5, 6, 7, 8, 9, 10, 11, 12, 13, 14, 15], [16, 17, 18, 19]]\n",
      "Data after merge operation [[0, 1, 2, 3, 4, 5, 6, 7, 8, 9, 10, 11, 12, 13, 14, 15], [16, 17, 18, 19]]\n",
      "\n",
      "Data before performing merge operation on cell size 16 - [[0, 1, 2, 3, 4, 5, 6, 7, 8, 9, 10, 11, 12, 13, 14, 15], [16, 17, 18, 19]]\n",
      "[[0, 1, 2, 3, 4, 5, 6, 7, 8, 9, 10, 11, 12, 13, 14, 15, 16, 17, 18, 19]]\n",
      "Data after merge operation [[0, 1, 2, 3, 4, 5, 6, 7, 8, 9, 10, 11, 12, 13, 14, 15, 16, 17, 18, 19]]\n",
      "\n",
      "Data after sorting [0, 1, 2, 3, 4, 5, 6, 7, 8, 9, 10, 11, 12, 13, 14, 15, 16, 17, 18, 19]\n"
     ]
    }
   ],
   "source": [
    "arr = [i for i in range(20) ]\n",
    "print(\"Sequential Input Array:\",arr)\n",
    "print(\"\")\n",
    "\n",
    "print(\"Data after sorting\",merge(arr))"
   ]
  },
  {
   "cell_type": "markdown",
   "metadata": {
    "id": "lQ9QB14OjxT4"
   },
   "source": [
    "# Problem 5 - Heap Sort\n",
    "Implement the heap-sort algorithm given in algorithm 1. The max_heapify and build_max_heap procedures are described in algorithm 2 and algorithm 3, respectively."
   ]
  },
  {
   "cell_type": "code",
   "execution_count": 14,
   "metadata": {
    "id": "bK5nd9h3SCu6"
   },
   "outputs": [],
   "source": [
    "def heap_sort(D):\n",
    "  print(\"Buiding Max Heap:\")\n",
    "  build_max_heap(D)\n",
    "  print(\"After Intial Heapification\",D)\n",
    "  input_length = len(D)\n",
    "\n",
    "  for heap_size in range(input_length-1,0,-1):\n",
    "    print(\"\\nHeap Size\",heap_size)\n",
    "    D[0], D[heap_size] = D[heap_size], D[0]\n",
    "    print(\"After Swapping\",D)\n",
    "\n",
    "    max_heapify(D,heap_size,0)\n",
    "  \n",
    "  return D\n"
   ]
  },
  {
   "cell_type": "code",
   "execution_count": 15,
   "metadata": {
    "id": "Dz2qV1iYmvwn"
   },
   "outputs": [],
   "source": [
    "def max_heapify(D,heap_size,i):\n",
    "    #largest = i  # Initialize largest as root\n",
    "    l = 2 * i + 1     # left = 2*i + 1\n",
    "    r = 2 * i + 2     # right = 2*i + 2\n",
    "  \n",
    "    # See if left child of root exists and is greater than root\n",
    "    if l < heap_size and D[l] > D[i]:\n",
    "        largest = l\n",
    "    else:\n",
    "      largest = i\n",
    " \n",
    "    # See if right child of root exists and is greater than root\n",
    "    if r < heap_size and D[r] > D[largest]:\n",
    "        largest = r\n",
    " \n",
    "    if largest != i:\n",
    "        arr[i], arr[largest] = arr[largest], arr[i]  # swap\n",
    " \n",
    "        # Heapify the root.\n",
    "        max_heapify(D, heap_size, largest)\n",
    "    \n",
    "    print(D)"
   ]
  },
  {
   "cell_type": "code",
   "execution_count": 16,
   "metadata": {
    "id": "L7HWsat_ljVL"
   },
   "outputs": [],
   "source": [
    "def build_max_heap(D):\n",
    "  input_length = len(D)\n",
    "  \n",
    "  for i in range(input_length//2 - 1, -1, -1):\n",
    "    max_heapify(D,input_length,i)"
   ]
  },
  {
   "cell_type": "code",
   "execution_count": 17,
   "metadata": {
    "colab": {
     "base_uri": "https://localhost:8080/"
    },
    "id": "86JvBUHouu6g",
    "outputId": "0697e5b7-6102-4223-9256-e99c7dba822a"
   },
   "outputs": [
    {
     "name": "stdout",
     "output_type": "stream",
     "text": [
      "Random Input Array: [17, 6, 1, 14, 49, 2, 37, 7, 4, 37]\n",
      "\n",
      "Buiding Max Heap:\n",
      "[17, 6, 1, 14, 49, 2, 37, 7, 4, 37]\n",
      "[17, 6, 1, 14, 49, 2, 37, 7, 4, 37]\n",
      "[17, 6, 37, 14, 49, 2, 1, 7, 4, 37]\n",
      "[17, 6, 37, 14, 49, 2, 1, 7, 4, 37]\n",
      "[17, 49, 37, 14, 37, 2, 1, 7, 4, 6]\n",
      "[17, 49, 37, 14, 37, 2, 1, 7, 4, 6]\n",
      "[17, 49, 37, 14, 37, 2, 1, 7, 4, 6]\n",
      "[49, 37, 37, 14, 17, 2, 1, 7, 4, 6]\n",
      "[49, 37, 37, 14, 17, 2, 1, 7, 4, 6]\n",
      "[49, 37, 37, 14, 17, 2, 1, 7, 4, 6]\n",
      "After Intial Heapification [49, 37, 37, 14, 17, 2, 1, 7, 4, 6]\n",
      "\n",
      "Heap Size 9\n",
      "After Swapping [6, 37, 37, 14, 17, 2, 1, 7, 4, 49]\n",
      "[37, 17, 37, 14, 6, 2, 1, 7, 4, 49]\n",
      "[37, 17, 37, 14, 6, 2, 1, 7, 4, 49]\n",
      "[37, 17, 37, 14, 6, 2, 1, 7, 4, 49]\n",
      "\n",
      "Heap Size 8\n",
      "After Swapping [4, 17, 37, 14, 6, 2, 1, 7, 37, 49]\n",
      "[37, 17, 4, 14, 6, 2, 1, 7, 37, 49]\n",
      "[37, 17, 4, 14, 6, 2, 1, 7, 37, 49]\n",
      "\n",
      "Heap Size 7\n",
      "After Swapping [7, 17, 4, 14, 6, 2, 1, 37, 37, 49]\n",
      "[17, 14, 4, 7, 6, 2, 1, 37, 37, 49]\n",
      "[17, 14, 4, 7, 6, 2, 1, 37, 37, 49]\n",
      "[17, 14, 4, 7, 6, 2, 1, 37, 37, 49]\n",
      "\n",
      "Heap Size 6\n",
      "After Swapping [1, 14, 4, 7, 6, 2, 17, 37, 37, 49]\n",
      "[14, 7, 4, 1, 6, 2, 17, 37, 37, 49]\n",
      "[14, 7, 4, 1, 6, 2, 17, 37, 37, 49]\n",
      "[14, 7, 4, 1, 6, 2, 17, 37, 37, 49]\n",
      "\n",
      "Heap Size 5\n",
      "After Swapping [2, 7, 4, 1, 6, 14, 17, 37, 37, 49]\n",
      "[7, 6, 4, 1, 2, 14, 17, 37, 37, 49]\n",
      "[7, 6, 4, 1, 2, 14, 17, 37, 37, 49]\n",
      "[7, 6, 4, 1, 2, 14, 17, 37, 37, 49]\n",
      "\n",
      "Heap Size 4\n",
      "After Swapping [2, 6, 4, 1, 7, 14, 17, 37, 37, 49]\n",
      "[6, 2, 4, 1, 7, 14, 17, 37, 37, 49]\n",
      "[6, 2, 4, 1, 7, 14, 17, 37, 37, 49]\n",
      "\n",
      "Heap Size 3\n",
      "After Swapping [1, 2, 4, 6, 7, 14, 17, 37, 37, 49]\n",
      "[4, 2, 1, 6, 7, 14, 17, 37, 37, 49]\n",
      "[4, 2, 1, 6, 7, 14, 17, 37, 37, 49]\n",
      "\n",
      "Heap Size 2\n",
      "After Swapping [1, 2, 4, 6, 7, 14, 17, 37, 37, 49]\n",
      "[2, 1, 4, 6, 7, 14, 17, 37, 37, 49]\n",
      "[2, 1, 4, 6, 7, 14, 17, 37, 37, 49]\n",
      "\n",
      "Heap Size 1\n",
      "After Swapping [1, 2, 4, 6, 7, 14, 17, 37, 37, 49]\n",
      "[1, 2, 4, 6, 7, 14, 17, 37, 37, 49]\n",
      "\n",
      "\n",
      "Sorted array:  [1, 2, 4, 6, 7, 14, 17, 37, 37, 49]\n"
     ]
    }
   ],
   "source": [
    "#arr = [12, 11, 13, 5, 6, 7]\n",
    "arr = [random.randint(0,50) for _ in range(10) ]\n",
    "print(\"Random Input Array:\",arr)\n",
    "print(\"\")\n",
    "\n",
    "heap_sort(arr)\n",
    "print(\"\\n\\nSorted array: \", arr)  "
   ]
  },
  {
   "cell_type": "markdown",
   "metadata": {
    "id": "QO8inPKtOvLz"
   },
   "source": [
    "Sequential Array Test for Heap Sort"
   ]
  },
  {
   "cell_type": "code",
   "execution_count": 18,
   "metadata": {
    "colab": {
     "base_uri": "https://localhost:8080/"
    },
    "id": "H8vNh_ZNOR46",
    "outputId": "1a74d596-d3a1-4ad1-bbb6-8dd10af7f28f"
   },
   "outputs": [
    {
     "name": "stdout",
     "output_type": "stream",
     "text": [
      "Sequential Input Array: [0, 1, 2, 3, 4, 5, 6, 7, 8, 9]\n",
      "\n",
      "Buiding Max Heap:\n",
      "[0, 1, 2, 3, 9, 5, 6, 7, 8, 4]\n",
      "[0, 1, 2, 3, 9, 5, 6, 7, 8, 4]\n",
      "[0, 1, 2, 8, 9, 5, 6, 7, 3, 4]\n",
      "[0, 1, 2, 8, 9, 5, 6, 7, 3, 4]\n",
      "[0, 1, 6, 8, 9, 5, 2, 7, 3, 4]\n",
      "[0, 1, 6, 8, 9, 5, 2, 7, 3, 4]\n",
      "[0, 9, 6, 8, 4, 5, 2, 7, 3, 1]\n",
      "[0, 9, 6, 8, 4, 5, 2, 7, 3, 1]\n",
      "[0, 9, 6, 8, 4, 5, 2, 7, 3, 1]\n",
      "[9, 8, 6, 7, 4, 5, 2, 0, 3, 1]\n",
      "[9, 8, 6, 7, 4, 5, 2, 0, 3, 1]\n",
      "[9, 8, 6, 7, 4, 5, 2, 0, 3, 1]\n",
      "[9, 8, 6, 7, 4, 5, 2, 0, 3, 1]\n",
      "After Intial Heapification [9, 8, 6, 7, 4, 5, 2, 0, 3, 1]\n",
      "\n",
      "Heap Size 9\n",
      "After Swapping [1, 8, 6, 7, 4, 5, 2, 0, 3, 9]\n",
      "[8, 7, 6, 3, 4, 5, 2, 0, 1, 9]\n",
      "[8, 7, 6, 3, 4, 5, 2, 0, 1, 9]\n",
      "[8, 7, 6, 3, 4, 5, 2, 0, 1, 9]\n",
      "[8, 7, 6, 3, 4, 5, 2, 0, 1, 9]\n",
      "\n",
      "Heap Size 8\n",
      "After Swapping [1, 7, 6, 3, 4, 5, 2, 0, 8, 9]\n",
      "[7, 4, 6, 3, 1, 5, 2, 0, 8, 9]\n",
      "[7, 4, 6, 3, 1, 5, 2, 0, 8, 9]\n",
      "[7, 4, 6, 3, 1, 5, 2, 0, 8, 9]\n",
      "\n",
      "Heap Size 7\n",
      "After Swapping [0, 4, 6, 3, 1, 5, 2, 7, 8, 9]\n",
      "[6, 4, 5, 3, 1, 0, 2, 7, 8, 9]\n",
      "[6, 4, 5, 3, 1, 0, 2, 7, 8, 9]\n",
      "[6, 4, 5, 3, 1, 0, 2, 7, 8, 9]\n",
      "\n",
      "Heap Size 6\n",
      "After Swapping [2, 4, 5, 3, 1, 0, 6, 7, 8, 9]\n",
      "[5, 4, 2, 3, 1, 0, 6, 7, 8, 9]\n",
      "[5, 4, 2, 3, 1, 0, 6, 7, 8, 9]\n",
      "\n",
      "Heap Size 5\n",
      "After Swapping [0, 4, 2, 3, 1, 5, 6, 7, 8, 9]\n",
      "[4, 3, 2, 0, 1, 5, 6, 7, 8, 9]\n",
      "[4, 3, 2, 0, 1, 5, 6, 7, 8, 9]\n",
      "[4, 3, 2, 0, 1, 5, 6, 7, 8, 9]\n",
      "\n",
      "Heap Size 4\n",
      "After Swapping [1, 3, 2, 0, 4, 5, 6, 7, 8, 9]\n",
      "[3, 1, 2, 0, 4, 5, 6, 7, 8, 9]\n",
      "[3, 1, 2, 0, 4, 5, 6, 7, 8, 9]\n",
      "\n",
      "Heap Size 3\n",
      "After Swapping [0, 1, 2, 3, 4, 5, 6, 7, 8, 9]\n",
      "[2, 1, 0, 3, 4, 5, 6, 7, 8, 9]\n",
      "[2, 1, 0, 3, 4, 5, 6, 7, 8, 9]\n",
      "\n",
      "Heap Size 2\n",
      "After Swapping [0, 1, 2, 3, 4, 5, 6, 7, 8, 9]\n",
      "[1, 0, 2, 3, 4, 5, 6, 7, 8, 9]\n",
      "[1, 0, 2, 3, 4, 5, 6, 7, 8, 9]\n",
      "\n",
      "Heap Size 1\n",
      "After Swapping [0, 1, 2, 3, 4, 5, 6, 7, 8, 9]\n",
      "[0, 1, 2, 3, 4, 5, 6, 7, 8, 9]\n",
      "\n",
      "\n",
      "Sorted array:  [0, 1, 2, 3, 4, 5, 6, 7, 8, 9]\n"
     ]
    }
   ],
   "source": [
    "arr = [i for i in range(10) ]\n",
    "print(\"Sequential Input Array:\",arr)\n",
    "print(\"\")\n",
    "\n",
    "heap_sort(arr)\n",
    "print(\"\\n\\nSorted array: \", arr)  "
   ]
  },
  {
   "cell_type": "markdown",
   "metadata": {
    "id": "H7D9jRx0KC49"
   },
   "source": [
    "# Problem 6 - Counting Sort\n",
    "Implement the counting-sort algorithm given in algorithm 4."
   ]
  },
  {
   "cell_type": "code",
   "execution_count": 19,
   "metadata": {
    "id": "HObNIw3qI1BL"
   },
   "outputs": [],
   "source": [
    "def counting_sort(D,B,k):\n",
    "  C = [0] * int(k)\n",
    "  input_length = len(D)\n",
    "\n",
    "  for j in range(1,input_length):\n",
    "    C[D[j]] = C[D[j]] + 1\n",
    "  \n",
    "  print(\"Count Array\")\n",
    "  print(C)\n",
    "\n",
    "  for i in range(1,k):\n",
    "    C[i] = C[i] + C[i-1]\n",
    "\n",
    "  print(\"Cummulative Count Array\")\n",
    "  print(C)\n",
    "  \n",
    "  print(\"\\n---\")\n",
    "  for j in range(input_length-1,0,-1):\n",
    "    print(j)\n",
    "    B[C[D[j]]] = D[j]\n",
    "    C[D[j]] = C[D[j]] - 1\n",
    "    print(B)\n",
    "  \n",
    "  return B"
   ]
  },
  {
   "cell_type": "code",
   "execution_count": 20,
   "metadata": {
    "colab": {
     "base_uri": "https://localhost:8080/"
    },
    "id": "Ejk0hqGbMhDJ",
    "outputId": "c0b37b55-e6a7-4b47-9934-d8e09871a00b"
   },
   "outputs": [
    {
     "name": "stdout",
     "output_type": "stream",
     "text": [
      "Random Input Array: [-9999, 4, 7, 15, 50, 50, 32, 29, 28, 11, 21]\n",
      "\n",
      "Count Array\n",
      "[0, 0, 0, 0, 1, 0, 0, 1, 0, 0, 0, 1, 0, 0, 0, 1, 0, 0, 0, 0, 0, 1, 0, 0, 0, 0, 0, 0, 1, 1, 0, 0, 1, 0, 0, 0, 0, 0, 0, 0, 0, 0, 0, 0, 0, 0, 0, 0, 0, 0, 2]\n",
      "Cummulative Count Array\n",
      "[0, 0, 0, 0, 1, 1, 1, 2, 2, 2, 2, 3, 3, 3, 3, 4, 4, 4, 4, 4, 4, 5, 5, 5, 5, 5, 5, 5, 6, 7, 7, 7, 8, 8, 8, 8, 8, 8, 8, 8, 8, 8, 8, 8, 8, 8, 8, 8, 8, 8, 10]\n",
      "\n",
      "---\n",
      "10\n",
      "[0, 0, 0, 0, 0, 21, 0, 0, 0, 0, 0]\n",
      "9\n",
      "[0, 0, 0, 11, 0, 21, 0, 0, 0, 0, 0]\n",
      "8\n",
      "[0, 0, 0, 11, 0, 21, 28, 0, 0, 0, 0]\n",
      "7\n",
      "[0, 0, 0, 11, 0, 21, 28, 29, 0, 0, 0]\n",
      "6\n",
      "[0, 0, 0, 11, 0, 21, 28, 29, 32, 0, 0]\n",
      "5\n",
      "[0, 0, 0, 11, 0, 21, 28, 29, 32, 0, 50]\n",
      "4\n",
      "[0, 0, 0, 11, 0, 21, 28, 29, 32, 50, 50]\n",
      "3\n",
      "[0, 0, 0, 11, 15, 21, 28, 29, 32, 50, 50]\n",
      "2\n",
      "[0, 0, 7, 11, 15, 21, 28, 29, 32, 50, 50]\n",
      "1\n",
      "[0, 4, 7, 11, 15, 21, 28, 29, 32, 50, 50]\n",
      "\n",
      "\n",
      "Sorted array:  [0, 4, 7, 11, 15, 21, 28, 29, 32, 50, 50]\n"
     ]
    }
   ],
   "source": [
    "#arr = [-99999, 12, 11, 13, 5, 6, 7]\n",
    "arr = [random.randint(1,50) for _ in range(10) ]\n",
    "arr.insert(0, -9999)\n",
    "print(\"Random Input Array:\",arr)\n",
    "print(\"\")\n",
    "\n",
    "B = [0] * len(arr)\n",
    "counting_sort(arr, B, int(max(arr)+1))\n",
    "print(\"\\n\\nSorted array: \", B)  "
   ]
  },
  {
   "cell_type": "markdown",
   "metadata": {
    "id": "4RgzlrEHKUuJ"
   },
   "source": [
    "# Problem 7 - Bucket Sort\n",
    "Implement the bucket sort algorithm given in algorithm 5."
   ]
  },
  {
   "cell_type": "code",
   "execution_count": 21,
   "metadata": {
    "id": "LIl7v2COKSLd"
   },
   "outputs": [],
   "source": [
    "def bucket_sort(D):\n",
    "  # input_length = len(D)\n",
    "  bucket = []\n",
    "  if(isinstance(D[0], int)):\n",
    "    type=\"int\"\n",
    "  else:\n",
    "    type=\"float\"\n",
    "\n",
    "  if(type == \"float\"):\n",
    "    max_input = int(max(D)*10 + 1)\n",
    "  else:\n",
    "    max_input = int((max(D)/10 + 1))\n",
    "  \n",
    "  print(\"Bucket Size:\",max_input)\n",
    "  for i in range(max_input):\n",
    "    bucket.append([])\n",
    "  \n",
    "  for j in D:\n",
    "    if(type == \"float\"):\n",
    "      index_b = int(10 * j)\n",
    "    else:\n",
    "      index_b = int(j//10)\n",
    "    bucket[index_b].append(j)\n",
    "\n",
    "  for i in range(max_input):\n",
    "    print(f\"Bucket {i}:\",bucket[i])\n",
    "    bucket[i] = insertion_sort(bucket[i])\n",
    "\n",
    "  k = 0\n",
    "  for i in range(max_input):\n",
    "    for j in range(len(bucket[i])):\n",
    "      D[k] = bucket[i][j]\n",
    "      k += 1\n",
    "  return D"
   ]
  },
  {
   "cell_type": "code",
   "execution_count": 22,
   "metadata": {
    "id": "sDU6fGcCNWv3"
   },
   "outputs": [],
   "source": [
    "def insertion_sort(b):\n",
    "  for i in range(1, len(b)):\n",
    "      up = b[i]\n",
    "      j = i - 1\n",
    "      while j >= 0 and b[j] > up:\n",
    "          b[j + 1] = b[j]\n",
    "          j -= 1\n",
    "      b[j + 1] = up    \n",
    "  return b    "
   ]
  },
  {
   "cell_type": "markdown",
   "metadata": {
    "id": "Qrn-kf3WY19i"
   },
   "source": [
    "**Test on Integer Values**"
   ]
  },
  {
   "cell_type": "code",
   "execution_count": 23,
   "metadata": {
    "colab": {
     "base_uri": "https://localhost:8080/"
    },
    "id": "KsJghHLIU4wy",
    "outputId": "3aebf63f-f908-4bb4-936f-5ca1cb10f587"
   },
   "outputs": [
    {
     "name": "stdout",
     "output_type": "stream",
     "text": [
      "Random Input Array: [36, 44, 26, 18, 49, 49, 5, 17, 8, 19, 17, 6, 49, 1, 11, 21, 19, 50, 26, 13]\n",
      "\n",
      "Bucket Size: 6\n",
      "Bucket 0: [5, 8, 6, 1]\n",
      "Bucket 1: [18, 17, 19, 17, 11, 19, 13]\n",
      "Bucket 2: [26, 21, 26]\n",
      "Bucket 3: [36]\n",
      "Bucket 4: [44, 49, 49, 49]\n",
      "Bucket 5: [50]\n",
      "\n",
      "Sorted array:  [1, 5, 6, 8, 11, 13, 17, 17, 18, 19, 19, 21, 26, 26, 36, 44, 49, 49, 49, 50]\n"
     ]
    }
   ],
   "source": [
    "# arr = [.42, .32, .33, .52, .37, .47, .75, .51]\n",
    "# arr = [12, 11, 13, 5, 6, 71, 7]\n",
    "arr = [random.randint(1,50) for _ in range(20) ]\n",
    "print(\"Random Input Array:\",arr)\n",
    "print(\"\")\n",
    "\n",
    "bucket_sort(arr)\n",
    "print(\"\\nSorted array: \", arr)"
   ]
  },
  {
   "cell_type": "markdown",
   "metadata": {
    "id": "QsPS9FDmYx6N"
   },
   "source": [
    "**Test on Float Values**"
   ]
  },
  {
   "cell_type": "code",
   "execution_count": 24,
   "metadata": {
    "colab": {
     "base_uri": "https://localhost:8080/"
    },
    "id": "msR5FblSXyQH",
    "outputId": "6957bf77-0bcf-40e8-df1f-5f532f96df23"
   },
   "outputs": [
    {
     "name": "stdout",
     "output_type": "stream",
     "text": [
      "Random Input Array: [0.56, 0.74, 0.51, 0.32, 0.58, 0.21, 0.7, 0.79, 0.45, 0.6, 0.16, 0.12, 0.13, 0.29, 0.23, 0.95, 0.43, 0.66, 0.43, 0.76]\n",
      "\n",
      "Bucket Size: 10\n",
      "Bucket 0: []\n",
      "Bucket 1: [0.16, 0.12, 0.13]\n",
      "Bucket 2: [0.21, 0.29, 0.23]\n",
      "Bucket 3: [0.32]\n",
      "Bucket 4: [0.45, 0.43, 0.43]\n",
      "Bucket 5: [0.56, 0.51, 0.58]\n",
      "Bucket 6: [0.6, 0.66]\n",
      "Bucket 7: [0.74, 0.7, 0.79, 0.76]\n",
      "Bucket 8: []\n",
      "Bucket 9: [0.95]\n",
      "\n",
      "Sorted array:  [0.12, 0.13, 0.16, 0.21, 0.23, 0.29, 0.32, 0.43, 0.43, 0.45, 0.51, 0.56, 0.58, 0.6, 0.66, 0.7, 0.74, 0.76, 0.79, 0.95]\n"
     ]
    }
   ],
   "source": [
    "arr = [round(random.uniform(0.1, 1.0), 2) for _ in range(20) ]\n",
    "print(\"Random Input Array:\",arr)\n",
    "print(\"\")\n",
    "\n",
    "bucket_sort(arr)\n",
    "print(\"\\nSorted array: \", arr)"
   ]
  },
  {
   "cell_type": "markdown",
   "metadata": {
    "id": "DmpM_ezxbW1V"
   },
   "source": [
    "**Worst Case Testing**\n",
    "\n",
    "There is only one bucket for sorting and in this case every element is arranged using insertion sort which runs in O(n^2)"
   ]
  },
  {
   "cell_type": "code",
   "execution_count": 25,
   "metadata": {
    "colab": {
     "base_uri": "https://localhost:8080/"
    },
    "id": "nj7h2zUcbVSd",
    "outputId": "199f4a33-b805-4b3d-ff52-435a6dc743dc"
   },
   "outputs": [
    {
     "name": "stdout",
     "output_type": "stream",
     "text": [
      "Random Input Array: [7, 4, 8, 8, 6, 4, 4, 4, 4, 5, 5, 6, 9, 2, 9, 2, 6, 2, 2, 2]\n",
      "\n",
      "Bucket Size: 1\n",
      "Bucket 0: [7, 4, 8, 8, 6, 4, 4, 4, 4, 5, 5, 6, 9, 2, 9, 2, 6, 2, 2, 2]\n",
      "\n",
      "Sorted array:  [2, 2, 2, 2, 2, 4, 4, 4, 4, 4, 5, 5, 6, 6, 6, 7, 8, 8, 9, 9]\n"
     ]
    }
   ],
   "source": [
    "arr = [random.randint(1,9) for _ in range(20) ]\n",
    "print(\"Random Input Array:\",arr)\n",
    "print(\"\")\n",
    "\n",
    "bucket_sort(arr)\n",
    "print(\"\\nSorted array: \", arr)"
   ]
  },
  {
   "cell_type": "markdown",
   "metadata": {
    "id": "YgEad8LCY_vj"
   },
   "source": [
    "# Findings on Merge, Heap, Counting and Bucket Sort Algorithms\n"
   ]
  },
  {
   "cell_type": "markdown",
   "metadata": {
    "id": "MGrmISzfY_mX"
   },
   "source": [
    "It can be seen that every algorithm runs its full course of execution and doesn't take the order of elements to decide the running time.\n",
    "\n",
    "Plus the bucket sort is the only algorithm that runs in O(n^2) in worst case as explained above. \n"
   ]
  },
  {
   "cell_type": "markdown",
   "metadata": {
    "id": "boUABVSTcZLl"
   },
   "source": [
    "Reference: https://www.geeksforgeeks.org/time-complexities-of-all-sorting-algorithms/\n",
    "\n",
    "![image.png](data:image/png;base64,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)"
   ]
  }
 ],
 "metadata": {
  "colab": {
   "collapsed_sections": [],
   "name": "HW4.ipynb",
   "provenance": []
  },
  "kernelspec": {
   "display_name": "Python 3",
   "language": "python",
   "name": "python3"
  },
  "language_info": {
   "codemirror_mode": {
    "name": "ipython",
    "version": 3
   },
   "file_extension": ".py",
   "mimetype": "text/x-python",
   "name": "python",
   "nbconvert_exporter": "python",
   "pygments_lexer": "ipython3",
   "version": "3.7.1"
  }
 },
 "nbformat": 4,
 "nbformat_minor": 1
}

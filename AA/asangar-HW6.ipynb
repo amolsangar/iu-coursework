{
 "cells": [
  {
   "cell_type": "markdown",
   "metadata": {},
   "source": [
    "### HW 6\n",
    "### Name - Amol Dattatray Sangar\n",
    "### Username - asangar\n",
    "### Assignment Partner - Neeraja Katha"
   ]
  },
  {
   "cell_type": "markdown",
   "metadata": {},
   "source": [
    "### Problem 1: Expectation-Maximization Algorithm for Clustering [30pt.]\n",
    "##### Implement expectation-maximization algorithm for Gaussian mixture models (see the EM algorithm below) in Python and call this program Gk. As you present your code explain your protocol for\n",
    "##### 1. initializing each Gaussian\n",
    "##### 2. deciding ties\n",
    "##### 3. stopping criteria"
   ]
  },
  {
   "cell_type": "code",
   "execution_count": 21,
   "metadata": {},
   "outputs": [],
   "source": [
    "import matplotlib.pyplot as plt\n",
    "from sklearn.datasets import make_blobs\n",
    "import numpy as np\n",
    "import pandas as pd\n",
    "from scipy.stats import multivariate_normal\n",
    "error_rate[]"
   ]
  },
  {
   "cell_type": "code",
   "execution_count": 22,
   "metadata": {},
   "outputs": [],
   "source": [
    "def gaussian_mix(X, k, epsilon, iteration,error_flag, centroid_a=0, centroid_b=0, org_label_cluster= None):\n",
    "    result_p_den_fun = np.zeros((X.shape[0], k))\n",
    "    result_mui = np.zeros((k,X.shape[1]))\n",
    "    result_log_likelihood = 0\n",
    "    result_covariance = []\n",
    "    run_count = []\n",
    "    error_rate = []\n",
    "    for iter_val in range(iteration):\n",
    "        # Random Intitalisation \n",
    "        mui = np.zeros((k,X.shape[1])) \n",
    "        covariance_cal=[]\n",
    "        value = np.cov(X.T) + 1\n",
    "        \n",
    "        for y in range(k):\n",
    "            covariance_cal.append(value)\n",
    "        \n",
    "        prior_prob = np.full(k, 1/k)\n",
    "        p_den_fun = np.zeros((X.shape[0], k))\n",
    "        \n",
    "        for x in range(k):\n",
    "            mui[x] = X[np.random.randint(X.shape[0])]\n",
    "        \n",
    "        count = 0\n",
    "        while True and count < 1000:\n",
    "            count = count+1\n",
    "            \n",
    "            # Expectation : calculating posterier probability / density function for each cluster\n",
    "            for y in range(k):\n",
    "                    p_den_fun[:,y] = multivariate_normal.pdf(X,  mean=mui[y], cov=covariance_cal[y],allow_singular=True)*prior_prob[y]\n",
    "            \n",
    "            # Normalizing posterier probability / density function  for every row\n",
    "            for x in range(X.shape[0]):\n",
    "                try:    \n",
    "                    p_den_fun[x] = (p_den_fun[x,:]/ p_den_fun[x].sum())\n",
    "                except:\n",
    "                    p_den_fun[x] = (p_den_fun[x,:]/10**-8)\n",
    "            \n",
    "            # Maximization\n",
    "            mui_o = mui.copy()\n",
    "            mui = []\n",
    "            for y in range(k):\n",
    "                mui.append((np.sum((X.transpose() * p_den_fun[:,y]).transpose(), axis = 0))/(p_den_fun[:,y].sum()))\n",
    "            \n",
    "            covariance_cal = []\n",
    "            for y in range(k):\n",
    "                covariance_cal.append(np.dot(((X-mui[y]).transpose()*p_den_fun[:,y]),(X-mui[y]))/(p_den_fun[:,y].sum()))\n",
    "            \n",
    "            for y in range(k):\n",
    "                try:\n",
    "                    prior_prob[y] = p_den_fun[:,y].sum()/p_den_fun.sum()\n",
    "                except:\n",
    "                    prior_prob[y] =10**-8\n",
    "          \n",
    "            new_mui = np.square([mui[x] - mui_o[x] for x in range(k)]).sum()            \n",
    "            if new_mui < epsilon:\n",
    "                break\n",
    "        \n",
    "        log_likelihoods = np.log(np.sum([ prior_prob[x]* multivariate_normal(mui[x],covariance_cal[x],allow_singular=True).pdf(X) for x in range(k)]))\n",
    "        \n",
    "        if error_flag == 1:\n",
    "            error_rate.append(error_rate_cal(p_den_fun,k, centroid_a, centroid_b, org_label_cluster))\n",
    "        run_count.append(count)\n",
    "        \n",
    "        if  abs(result_log_likelihood) < abs(log_likelihoods):\n",
    "            result_covariance = covariance_cal\n",
    "            result_p_den_fun = p_den_fun\n",
    "            result_pc = prior_prob\n",
    "            result_log_likelihood = log_likelihoods\n",
    "            result_mui = mui\n",
    "            \n",
    "    return error_rate, run_count,result_p_den_fun\n",
    "\n",
    "def error_rate_cal(p_den_fun,k, centroid_a, centroid_b, org_label_cluster):\n",
    "    label_cluster = np.argmax(p_den_fun,axis=1)\n",
    "    \n",
    "    # combining the clusters\n",
    "    new_label = np.full((X.shape[0]),999)\n",
    "    \n",
    "    for i in range(k):\n",
    "        mui = X[np.where(label_cluster==i)].mean(axis=0)\n",
    "        if np.linalg.norm(mui - centroid_b) > np.linalg.norm(mui - centroid_a):\n",
    "            np.put(new_label,np.where(label_cluster==i), 1)\n",
    "        else:\n",
    "            np.put(new_label,np.where(label_cluster==i), 0)\n",
    "    # Calculating the error \n",
    "    error_count = 0\n",
    "    for i in range(X.shape[0]):\n",
    "        if new_label[i] != org_label_cluster[i]:\n",
    "            error_count =error_count+1\n",
    "    return error_count/X.shape[0]"
   ]
  },
  {
   "cell_type": "code",
   "execution_count": 23,
   "metadata": {},
   "outputs": [
    {
     "data": {
      "image/png": "[encoded data removed]",
      "text/plain": [
       "<Figure size 432x288 with 1 Axes>"
      ]
     },
     "metadata": {
      "needs_background": "light"
     },
     "output_type": "display_data"
    }
   ],
   "source": [
    "X,Y = make_blobs(cluster_std=2,random_state=20,n_samples=1000,centers=3) # std_dev of cluster=2 center=K\n",
    "#plotting the results\n",
    "plt.scatter(X[:,0] , X[:,1])\n",
    "plt.title(\"Input Data\")\n",
    "plt.show()\n",
    "\n",
    "epsilon = 10**-4\n",
    "k = 3 # 3 clusters based on the alignment of the data points above\n",
    "error_rate, run_count, p_den_fun = gaussian_mix(X,k,epsilon,20,0)\n",
    "d_frame = pd.DataFrame(data=X, columns=[\"col1\", \"col2\"])\n",
    "d_frame['label'] = np.argmax(p_den_fun,axis=1)"
   ]
  },
  {
   "cell_type": "code",
   "execution_count": 24,
   "metadata": {},
   "outputs": [
    {
     "data": {
      "image/png": "[encoded data removed]",
      "text/plain": [
       "<Figure size 432x288 with 1 Axes>"
      ]
     },
     "metadata": {
      "needs_background": "light"
     },
     "output_type": "display_data"
    },
    {
     "data": {
      "image/png": "[encoded data removed]",
      "text/plain": [
       "<Figure size 432x288 with 1 Axes>"
      ]
     },
     "metadata": {
      "needs_background": "light"
     },
     "output_type": "display_data"
    }
   ],
   "source": [
    "plt.scatter(d_frame[d_frame['label']==0]['col1'], d_frame[d_frame['label']==0]['col2'] , color = 'purple')\n",
    "plt.scatter(d_frame[d_frame['label']==1]['col1'], d_frame[d_frame['label']==1]['col2'] , color = 'blue')\n",
    "plt.scatter(d_frame[d_frame['label']==2]['col1'], d_frame[d_frame['label']==2]['col2'] , color = 'green')\n",
    "plt.title(\"Estimated/Predicted Clusters\")\n",
    "plt.show()\n",
    "\n",
    "plt.scatter(X[np.where(Y==0)][:,0], X[np.where(Y==0)][:,1] , color = 'purple')\n",
    "plt.scatter(X[np.where(Y==1)][:,0], X[np.where(Y==1)][:,1] , color = 'blue')\n",
    "plt.scatter(X[np.where(Y==2)][:,0], X[np.where(Y==2)][:,1] , color = 'green')\n",
    "plt.title(\"Expected/ Actual Clusters\")\n",
    "plt.show()"
   ]
  },
  {
   "cell_type": "markdown",
   "metadata": {},
   "source": [
    "### Initialize Each Gaussian:\n",
    "     We can initialize each gaussian with the mean of each cluster .By assigning a random data point from our data . Here I have used  random.randint () to choose a data point at random from a range of values. Therefore , random point from our input data is used as the mean. This is continued  for each cluster. We generate a k number of identity matrix of N*N size for the covariance matrix, where N is the number of columns in our data.\n",
    "\n",
    "     We also need to initialize another parameter, which is p_c which is the prior probability .I have initialized to 1/k ,where k is the number of possible distributions.\n",
    "     We calculate the posterior probability for each data point using the density .\n"
   ]
  },
  {
   "cell_type": "markdown",
   "metadata": {},
   "source": [
    "### Deciding Ties:\n",
    "    For each of our data points, calculate PDF, which tells us how likely it is that the data will fall into that distribution. The scipy package multivariate normal function is used to calculate the PDF. The following parameters are needed to calculate pdf for any point: \n",
    "    Data point\n",
    "    Distribution mean\n",
    "    Covariance matrix\n",
    "    \n",
    "    We generate the pdf for each cluster's data points, then normalize them to find the chance of each cluster having that data point.\n",
    "\n",
    "    After the calculationof PDF , we readjust the mean , covariance "
   ]
  },
  {
   "cell_type": "markdown",
   "metadata": {},
   "source": [
    "### Stopping Criteria :\n",
    "    Expectation-Maximization is an iterative technique in which we strive to maximize the PDF value for each cluster. i.e. the average of the last two iterations.\n",
    "\n",
    "    We will have to execute our method inloop and require a stopping condition, which we will use the change in the value of the expected value for.  \n",
    "\n",
    "    We have to create a parameter that will check if the supplied parameter's value is smaller than the sum of the square differences between the past two iterations means, which we'll have to decide before starting the algorithm. \n",
    "\n",
    "    If the condition is met, the iterations will come to an end."
   ]
  },
  {
   "cell_type": "code",
   "execution_count": 25,
   "metadata": {},
   "outputs": [
    {
     "data": {
      "text/html": [
       "<div>\n",
       "<style scoped>\n",
       "    .dataframe tbody tr th:only-of-type {\n",
       "        vertical-align: middle;\n",
       "    }\n",
       "\n",
       "    .dataframe tbody tr th {\n",
       "        vertical-align: top;\n",
       "    }\n",
       "\n",
       "    .dataframe thead th {\n",
       "        text-align: right;\n",
       "    }\n",
       "</style>\n",
       "<table border=\"1\" class=\"dataframe\">\n",
       "  <thead>\n",
       "    <tr style=\"text-align: right;\">\n",
       "      <th></th>\n",
       "      <th>1</th>\n",
       "      <th>0</th>\n",
       "      <th>0.99539</th>\n",
       "      <th>-0.05889</th>\n",
       "      <th>0.85243</th>\n",
       "      <th>0.02306</th>\n",
       "      <th>0.83398</th>\n",
       "      <th>-0.37708</th>\n",
       "      <th>1.1</th>\n",
       "      <th>0.03760</th>\n",
       "      <th>...</th>\n",
       "      <th>-0.51171</th>\n",
       "      <th>0.41078</th>\n",
       "      <th>-0.46168</th>\n",
       "      <th>0.21266</th>\n",
       "      <th>-0.34090</th>\n",
       "      <th>0.42267</th>\n",
       "      <th>-0.54487</th>\n",
       "      <th>0.18641</th>\n",
       "      <th>-0.45300</th>\n",
       "      <th>g</th>\n",
       "    </tr>\n",
       "  </thead>\n",
       "  <tbody>\n",
       "    <tr>\n",
       "      <th>0</th>\n",
       "      <td>1</td>\n",
       "      <td>0</td>\n",
       "      <td>1.00000</td>\n",
       "      <td>-0.18829</td>\n",
       "      <td>0.93035</td>\n",
       "      <td>-0.36156</td>\n",
       "      <td>-0.10868</td>\n",
       "      <td>-0.93597</td>\n",
       "      <td>1.00000</td>\n",
       "      <td>-0.04549</td>\n",
       "      <td>...</td>\n",
       "      <td>-0.26569</td>\n",
       "      <td>-0.20468</td>\n",
       "      <td>-0.18401</td>\n",
       "      <td>-0.19040</td>\n",
       "      <td>-0.11593</td>\n",
       "      <td>-0.16626</td>\n",
       "      <td>-0.06288</td>\n",
       "      <td>-0.13738</td>\n",
       "      <td>-0.02447</td>\n",
       "      <td>b</td>\n",
       "    </tr>\n",
       "    <tr>\n",
       "      <th>1</th>\n",
       "      <td>1</td>\n",
       "      <td>0</td>\n",
       "      <td>1.00000</td>\n",
       "      <td>-0.03365</td>\n",
       "      <td>1.00000</td>\n",
       "      <td>0.00485</td>\n",
       "      <td>1.00000</td>\n",
       "      <td>-0.12062</td>\n",
       "      <td>0.88965</td>\n",
       "      <td>0.01198</td>\n",
       "      <td>...</td>\n",
       "      <td>-0.40220</td>\n",
       "      <td>0.58984</td>\n",
       "      <td>-0.22145</td>\n",
       "      <td>0.43100</td>\n",
       "      <td>-0.17365</td>\n",
       "      <td>0.60436</td>\n",
       "      <td>-0.24180</td>\n",
       "      <td>0.56045</td>\n",
       "      <td>-0.38238</td>\n",
       "      <td>g</td>\n",
       "    </tr>\n",
       "    <tr>\n",
       "      <th>2</th>\n",
       "      <td>1</td>\n",
       "      <td>0</td>\n",
       "      <td>1.00000</td>\n",
       "      <td>-0.45161</td>\n",
       "      <td>1.00000</td>\n",
       "      <td>1.00000</td>\n",
       "      <td>0.71216</td>\n",
       "      <td>-1.00000</td>\n",
       "      <td>0.00000</td>\n",
       "      <td>0.00000</td>\n",
       "      <td>...</td>\n",
       "      <td>0.90695</td>\n",
       "      <td>0.51613</td>\n",
       "      <td>1.00000</td>\n",
       "      <td>1.00000</td>\n",
       "      <td>-0.20099</td>\n",
       "      <td>0.25682</td>\n",
       "      <td>1.00000</td>\n",
       "      <td>-0.32382</td>\n",
       "      <td>1.00000</td>\n",
       "      <td>b</td>\n",
       "    </tr>\n",
       "    <tr>\n",
       "      <th>3</th>\n",
       "      <td>1</td>\n",
       "      <td>0</td>\n",
       "      <td>1.00000</td>\n",
       "      <td>-0.02401</td>\n",
       "      <td>0.94140</td>\n",
       "      <td>0.06531</td>\n",
       "      <td>0.92106</td>\n",
       "      <td>-0.23255</td>\n",
       "      <td>0.77152</td>\n",
       "      <td>-0.16399</td>\n",
       "      <td>...</td>\n",
       "      <td>-0.65158</td>\n",
       "      <td>0.13290</td>\n",
       "      <td>-0.53206</td>\n",
       "      <td>0.02431</td>\n",
       "      <td>-0.62197</td>\n",
       "      <td>-0.05707</td>\n",
       "      <td>-0.59573</td>\n",
       "      <td>-0.04608</td>\n",
       "      <td>-0.65697</td>\n",
       "      <td>g</td>\n",
       "    </tr>\n",
       "    <tr>\n",
       "      <th>4</th>\n",
       "      <td>1</td>\n",
       "      <td>0</td>\n",
       "      <td>0.02337</td>\n",
       "      <td>-0.00592</td>\n",
       "      <td>-0.09924</td>\n",
       "      <td>-0.11949</td>\n",
       "      <td>-0.00763</td>\n",
       "      <td>-0.11824</td>\n",
       "      <td>0.14706</td>\n",
       "      <td>0.06637</td>\n",
       "      <td>...</td>\n",
       "      <td>-0.01535</td>\n",
       "      <td>-0.03240</td>\n",
       "      <td>0.09223</td>\n",
       "      <td>-0.07859</td>\n",
       "      <td>0.00732</td>\n",
       "      <td>0.00000</td>\n",
       "      <td>0.00000</td>\n",
       "      <td>-0.00039</td>\n",
       "      <td>0.12011</td>\n",
       "      <td>b</td>\n",
       "    </tr>\n",
       "  </tbody>\n",
       "</table>\n",
       "<p>5 rows × 35 columns</p>\n",
       "</div>"
      ],
      "text/plain": [
       "   1  0  0.99539  -0.05889  0.85243  0.02306  0.83398  -0.37708      1.1  \\\n",
       "0  1  0  1.00000  -0.18829  0.93035 -0.36156 -0.10868  -0.93597  1.00000   \n",
       "1  1  0  1.00000  -0.03365  1.00000  0.00485  1.00000  -0.12062  0.88965   \n",
       "2  1  0  1.00000  -0.45161  1.00000  1.00000  0.71216  -1.00000  0.00000   \n",
       "3  1  0  1.00000  -0.02401  0.94140  0.06531  0.92106  -0.23255  0.77152   \n",
       "4  1  0  0.02337  -0.00592 -0.09924 -0.11949 -0.00763  -0.11824  0.14706   \n",
       "\n",
       "   0.03760  ...  -0.51171  0.41078  -0.46168  0.21266  -0.34090  0.42267  \\\n",
       "0 -0.04549  ...  -0.26569 -0.20468  -0.18401 -0.19040  -0.11593 -0.16626   \n",
       "1  0.01198  ...  -0.40220  0.58984  -0.22145  0.43100  -0.17365  0.60436   \n",
       "2  0.00000  ...   0.90695  0.51613   1.00000  1.00000  -0.20099  0.25682   \n",
       "3 -0.16399  ...  -0.65158  0.13290  -0.53206  0.02431  -0.62197 -0.05707   \n",
       "4  0.06637  ...  -0.01535 -0.03240   0.09223 -0.07859   0.00732  0.00000   \n",
       "\n",
       "   -0.54487  0.18641  -0.45300  g  \n",
       "0  -0.06288 -0.13738  -0.02447  b  \n",
       "1  -0.24180  0.56045  -0.38238  g  \n",
       "2   1.00000 -0.32382   1.00000  b  \n",
       "3  -0.59573 -0.04608  -0.65697  g  \n",
       "4   0.00000 -0.00039   0.12011  b  \n",
       "\n",
       "[5 rows x 35 columns]"
      ]
     },
     "execution_count": 25,
     "metadata": {},
     "output_type": "execute_result"
    }
   ],
   "source": [
    "data = pd.read_csv(\"./ionosphere.data\")\n",
    "\n",
    "data.head()"
   ]
  },
  {
   "cell_type": "code",
   "execution_count": 26,
   "metadata": {},
   "outputs": [
    {
     "data": {
      "text/plain": [
       "array([[ 1.     ,  0.     ,  1.     , ..., -0.06288, -0.13738, -0.02447],\n",
       "       [ 1.     ,  0.     ,  1.     , ..., -0.2418 ,  0.56045, -0.38238],\n",
       "       [ 1.     ,  0.     ,  1.     , ...,  1.     , -0.32382,  1.     ],\n",
       "       ...,\n",
       "       [ 1.     ,  0.     ,  0.94701, ...,  0.00442,  0.92697, -0.00577],\n",
       "       [ 1.     ,  0.     ,  0.90608, ..., -0.03757,  0.87403, -0.16243],\n",
       "       [ 1.     ,  0.     ,  0.8471 , ..., -0.06678,  0.85764, -0.06151]])"
      ]
     },
     "execution_count": 26,
     "metadata": {},
     "output_type": "execute_result"
    }
   ],
   "source": [
    "X = data.iloc[:,0:-1].to_numpy() # moving all the columns to Var X excpet the last column\n",
    "X"
   ]
  },
  {
   "cell_type": "code",
   "execution_count": 27,
   "metadata": {},
   "outputs": [
    {
     "data": {
      "text/plain": [
       "array(['b', 'g', 'b', 'g', 'b', 'g', 'b', 'g', 'b', 'g', 'b', 'g', 'b',\n",
       "       'g', 'b', 'g', 'b', 'g', 'b', 'g', 'b', 'g', 'b', 'g', 'b', 'g',\n",
       "       'b', 'g', 'b', 'g', 'b', 'g', 'b', 'g', 'b', 'g', 'b', 'g', 'b',\n",
       "       'g', 'b', 'g', 'b', 'g', 'b', 'g', 'b', 'g', 'b', 'g', 'b', 'g',\n",
       "       'b', 'g', 'b', 'g', 'b', 'g', 'b', 'g', 'b', 'g', 'b', 'g', 'b',\n",
       "       'g', 'b', 'g', 'b', 'g', 'b', 'g', 'b', 'g', 'b', 'g', 'b', 'g',\n",
       "       'b', 'g', 'b', 'g', 'b', 'g', 'b', 'g', 'b', 'g', 'b', 'g', 'b',\n",
       "       'g', 'b', 'g', 'b', 'g', 'g', 'b', 'g', 'b', 'g', 'b', 'g', 'b',\n",
       "       'g', 'b', 'g', 'b', 'g', 'b', 'g', 'b', 'g', 'b', 'g', 'b', 'g',\n",
       "       'b', 'g', 'b', 'g', 'b', 'g', 'b', 'g', 'b', 'g', 'b', 'g', 'b',\n",
       "       'g', 'b', 'g', 'b', 'g', 'b', 'g', 'b', 'g', 'b', 'g', 'b', 'g',\n",
       "       'b', 'g', 'b', 'g', 'b', 'g', 'b', 'g', 'b', 'g', 'b', 'g', 'b',\n",
       "       'g', 'b', 'g', 'b', 'g', 'b', 'g', 'b', 'g', 'b', 'g', 'b', 'g',\n",
       "       'b', 'g', 'b', 'g', 'b', 'g', 'b', 'g', 'b', 'g', 'b', 'g', 'b',\n",
       "       'g', 'b', 'g', 'b', 'g', 'b', 'g', 'b', 'g', 'b', 'g', 'b', 'g',\n",
       "       'b', 'g', 'b', 'g', 'b', 'g', 'b', 'g', 'b', 'g', 'b', 'g', 'b',\n",
       "       'g', 'b', 'g', 'b', 'g', 'b', 'g', 'b', 'g', 'b', 'g', 'b', 'g',\n",
       "       'b', 'g', 'b', 'g', 'b', 'g', 'b', 'g', 'b', 'g', 'b', 'g', 'b',\n",
       "       'g', 'b', 'g', 'b', 'g', 'b', 'g', 'b', 'g', 'b', 'g', 'b', 'g',\n",
       "       'b', 'g', 'b', 'g', 'b', 'g', 'g', 'g', 'g', 'g', 'g', 'g', 'g',\n",
       "       'g', 'g', 'g', 'g', 'g', 'g', 'g', 'g', 'g', 'g', 'g', 'g', 'g',\n",
       "       'g', 'g', 'g', 'g', 'g', 'g', 'g', 'g', 'g', 'g', 'g', 'g', 'g',\n",
       "       'g', 'g', 'g', 'g', 'g', 'g', 'g', 'g', 'g', 'g', 'g', 'g', 'g',\n",
       "       'g', 'g', 'g', 'g', 'g', 'g', 'g', 'g', 'g', 'g', 'g', 'g', 'g',\n",
       "       'g', 'g', 'g', 'g', 'g', 'g', 'g', 'g', 'g', 'g', 'g', 'g', 'g',\n",
       "       'g', 'g', 'g', 'g', 'g', 'g', 'g', 'g', 'g', 'g', 'g', 'g', 'g',\n",
       "       'g', 'g', 'g', 'g', 'g', 'g', 'g', 'g', 'g', 'g', 'g', 'g'],\n",
       "      dtype=object)"
      ]
     },
     "execution_count": 27,
     "metadata": {},
     "output_type": "execute_result"
    }
   ],
   "source": [
    "Y = data.iloc[:,-1].to_numpy()# moving the last columns to Var Y \n",
    "Y # target var"
   ]
  },
  {
   "cell_type": "code",
   "execution_count": 28,
   "metadata": {},
   "outputs": [
    {
     "name": "stdout",
     "output_type": "stream",
     "text": [
      "[ 0.6984127   0.          0.29655579 -0.02978048  0.24278603  0.02420738\n",
      "  0.25398429 -0.02486     0.31234246  0.10345817  0.34992786  0.04943437\n",
      "  0.24996071 -0.03670397  0.16365929 -0.01986587  0.3101519  -0.08272881\n",
      "  0.26124992 -0.04869722  0.15800865  0.08876913  0.19782841 -0.06176476\n",
      "  0.2508777  -0.0722327   0.61817405 -0.10091865  0.18630175 -0.02523532\n",
      "  0.12799468  0.02088024  0.16722151  0.0545819 ]\n",
      "[ 1.          0.          0.83370344  0.08654357  0.80147929  0.16787433\n",
      "  0.71539004  0.20270058  0.62189076  0.22579866  0.54552129  0.21592866\n",
      "  0.48477063  0.16902835  0.44452424  0.12434277  0.42027411  0.04258817\n",
      "  0.41359884 -0.00881652  0.43616656 -0.03560853  0.4550583  -0.05309594\n",
      "  0.47707397 -0.06863196  0.49917504 -0.05013513  0.48726598 -0.02801268\n",
      "  0.4784925  -0.01525737  0.45254607 -0.00599018]\n"
     ]
    }
   ],
   "source": [
    "org_label_cluster= Y\n",
    "org_label_cluster[np.where(Y=='b')] = 0\n",
    "org_label_cluster[np.where(Y=='g')] = 1\n",
    "\n",
    "centroid_b = X[np.where(Y==0)].mean(axis=0)\n",
    "print(centroid_b)\n",
    "\n",
    "centroid_g = X[np.where(Y==1)].mean(axis=0)\n",
    "print(centroid_g)"
   ]
  },
  {
   "cell_type": "code",
   "execution_count": 29,
   "metadata": {},
   "outputs": [
    {
     "name": "stderr",
     "output_type": "stream",
     "text": [
      "<ipython-input-22-15c6009d299e>:71: RuntimeWarning: Mean of empty slice.\n",
      "  mui = X[np.where(label_cluster==i)].mean(axis=0)\n",
      "C:\\Users\\Neeraja\\anaconda3\\lib\\site-packages\\numpy\\core\\_methods.py:180: RuntimeWarning: invalid value encountered in true_divide\n",
      "  ret = um.true_divide(\n"
     ]
    }
   ],
   "source": [
    "iterator_count = {}\n",
    "error_count = {}\n",
    "cluster_size = [2,3,4,5]\n",
    "for k in cluster_size:\n",
    "    esp = 10**-2\n",
    "    error_rate, run_count,p_den_fun = gaussian_mix(X, k, esp, 20,1, centroid_g, centroid_b, org_label_cluster)\n",
    "    error_count[k]=error_rate\n",
    "    \n",
    "    iterator_count[k] = run_count"
   ]
  },
  {
   "cell_type": "code",
   "execution_count": 30,
   "metadata": {},
   "outputs": [
    {
     "data": {
      "image/png": "[encoded data removed]",
      "text/plain": [
       "<Figure size 432x288 with 1 Axes>"
      ]
     },
     "metadata": {
      "needs_background": "light"
     },
     "output_type": "display_data"
    }
   ],
   "source": [
    "fig, cor = plt.subplots()\n",
    "col  = [iterator_count[i] for i in cluster_size]\n",
    "\n",
    "cor.set_title('Cluster size vs Iteration')\n",
    "cor.boxplot(col,  vert=0)\n",
    "cor.set_xlim(0, 25)\n",
    "plt.yticks([1, 2, 3, 4], cluster_size)\n",
    "cor.set_ylabel('Number of clusters(K)')\n",
    "cor.set_xlabel('Iteration Count')\n",
    "plt.show()"
   ]
  },
  {
   "cell_type": "code",
   "execution_count": 31,
   "metadata": {},
   "outputs": [
    {
     "name": "stdout",
     "output_type": "stream",
     "text": [
      "[[0.07428571428571429, 0.10285714285714286, 0.12857142857142856, 0.32, 0.41714285714285715, 0.07142857142857142, 0.35428571428571426, 0.35714285714285715, 0.4257142857142857, 0.09714285714285714, 0.23714285714285716, 0.44571428571428573, 0.13428571428571429, 0.35714285714285715, 0.09142857142857143, 0.36, 0.2257142857142857, 0.4257142857142857, 0.3457142857142857, 0.35714285714285715], [0.5085714285714286, 0.3657142857142857, 0.24285714285714285, 0.1, 0.19714285714285715, 0.26285714285714284, 0.3742857142857143, 0.13428571428571429, 0.09714285714285714, 0.30857142857142855, 0.10571428571428572, 0.11714285714285715, 0.16285714285714287, 0.10571428571428572, 0.41714285714285715, 0.3342857142857143, 0.16, 0.22285714285714286, 0.2342857142857143, 0.3628571428571429], [0.10571428571428572, 0.17714285714285713, 0.12, 0.10857142857142857, 0.18285714285714286, 0.07428571428571429, 0.12571428571428572, 0.10857142857142857, 0.4057142857142857, 0.13714285714285715, 0.08285714285714285, 0.3171428571428571, 0.08571428571428572, 0.10571428571428572, 0.26857142857142857, 0.12, 0.1, 0.12857142857142856, 0.09142857142857143, 0.23142857142857143], [0.21428571428571427, 0.3028571428571429, 0.28285714285714286, 0.09428571428571429, 0.16, 0.18857142857142858, 0.22, 0.13428571428571429, 0.20285714285714285, 0.1457142857142857, 0.09714285714285714, 0.08571428571428572, 0.1, 0.32571428571428573, 0.38, 0.14285714285714285, 0.09714285714285714, 0.11142857142857143, 0.11428571428571428, 0.1]]\n"
     ]
    },
    {
     "data": {
      "image/png": "[encoded data removed]",
      "text/plain": [
       "<Figure size 432x288 with 1 Axes>"
      ]
     },
     "metadata": {
      "needs_background": "light"
     },
     "output_type": "display_data"
    }
   ],
   "source": [
    "fig, cor = plt.subplots()\n",
    "col  = [error_count[i] for i in cluster_size]\n",
    "print(col)\n",
    "cor.set_title('Cluster size vs Error rate')\n",
    "cor.boxplot(col,  vert=0)\n",
    "plt.yticks([1, 2, 3, 4], cluster_size)\n",
    "cor.set_ylabel('Number of clusters (K)')\n",
    "cor.set_xlabel('Error Rate')\n",
    "plt.show()"
   ]
  },
  {
   "cell_type": "code",
   "execution_count": 32,
   "metadata": {},
   "outputs": [
    {
     "data": {
      "text/html": [
       "<div>\n",
       "<style scoped>\n",
       "    .dataframe tbody tr th:only-of-type {\n",
       "        vertical-align: middle;\n",
       "    }\n",
       "\n",
       "    .dataframe tbody tr th {\n",
       "        vertical-align: top;\n",
       "    }\n",
       "\n",
       "    .dataframe thead th {\n",
       "        text-align: right;\n",
       "    }\n",
       "</style>\n",
       "<table border=\"1\" class=\"dataframe\">\n",
       "  <thead>\n",
       "    <tr style=\"text-align: right;\">\n",
       "      <th></th>\n",
       "      <th>V1</th>\n",
       "      <th>V2</th>\n",
       "      <th>V3</th>\n",
       "      <th>V4</th>\n",
       "      <th>V5</th>\n",
       "      <th>V6</th>\n",
       "      <th>V7</th>\n",
       "      <th>V8</th>\n",
       "      <th>V9</th>\n",
       "      <th>V10</th>\n",
       "      <th>...</th>\n",
       "      <th>V12</th>\n",
       "      <th>V13</th>\n",
       "      <th>V14</th>\n",
       "      <th>V15</th>\n",
       "      <th>V16</th>\n",
       "      <th>V17</th>\n",
       "      <th>V18</th>\n",
       "      <th>V19</th>\n",
       "      <th>V20</th>\n",
       "      <th>Class</th>\n",
       "    </tr>\n",
       "  </thead>\n",
       "  <tbody>\n",
       "    <tr>\n",
       "      <th>0</th>\n",
       "      <td>849</td>\n",
       "      <td>2177</td>\n",
       "      <td>598</td>\n",
       "      <td>1689</td>\n",
       "      <td>3114</td>\n",
       "      <td>-3406</td>\n",
       "      <td>3799</td>\n",
       "      <td>-2642</td>\n",
       "      <td>1578</td>\n",
       "      <td>-181</td>\n",
       "      <td>...</td>\n",
       "      <td>1633</td>\n",
       "      <td>4664</td>\n",
       "      <td>1081</td>\n",
       "      <td>-1172</td>\n",
       "      <td>-166</td>\n",
       "      <td>578</td>\n",
       "      <td>1664</td>\n",
       "      <td>309</td>\n",
       "      <td>-3028</td>\n",
       "      <td>1</td>\n",
       "    </tr>\n",
       "    <tr>\n",
       "      <th>1</th>\n",
       "      <td>947</td>\n",
       "      <td>543</td>\n",
       "      <td>782</td>\n",
       "      <td>-449</td>\n",
       "      <td>-8</td>\n",
       "      <td>1316</td>\n",
       "      <td>756</td>\n",
       "      <td>-61</td>\n",
       "      <td>1604</td>\n",
       "      <td>1686</td>\n",
       "      <td>...</td>\n",
       "      <td>-382</td>\n",
       "      <td>1259</td>\n",
       "      <td>608</td>\n",
       "      <td>-2292</td>\n",
       "      <td>1008</td>\n",
       "      <td>2687</td>\n",
       "      <td>-1422</td>\n",
       "      <td>-606</td>\n",
       "      <td>2374</td>\n",
       "      <td>2</td>\n",
       "    </tr>\n",
       "    <tr>\n",
       "      <th>2</th>\n",
       "      <td>759</td>\n",
       "      <td>-314</td>\n",
       "      <td>898</td>\n",
       "      <td>-1743</td>\n",
       "      <td>2003</td>\n",
       "      <td>1117</td>\n",
       "      <td>911</td>\n",
       "      <td>136</td>\n",
       "      <td>-489</td>\n",
       "      <td>-144</td>\n",
       "      <td>...</td>\n",
       "      <td>112</td>\n",
       "      <td>598</td>\n",
       "      <td>474</td>\n",
       "      <td>2026</td>\n",
       "      <td>1431</td>\n",
       "      <td>-336</td>\n",
       "      <td>79</td>\n",
       "      <td>1123</td>\n",
       "      <td>302</td>\n",
       "      <td>2</td>\n",
       "    </tr>\n",
       "    <tr>\n",
       "      <th>3</th>\n",
       "      <td>531</td>\n",
       "      <td>1374</td>\n",
       "      <td>517</td>\n",
       "      <td>1226</td>\n",
       "      <td>1122</td>\n",
       "      <td>-4</td>\n",
       "      <td>-1227</td>\n",
       "      <td>2277</td>\n",
       "      <td>1083</td>\n",
       "      <td>888</td>\n",
       "      <td>...</td>\n",
       "      <td>1063</td>\n",
       "      <td>2454</td>\n",
       "      <td>587</td>\n",
       "      <td>-744</td>\n",
       "      <td>1216</td>\n",
       "      <td>916</td>\n",
       "      <td>-476</td>\n",
       "      <td>6</td>\n",
       "      <td>-477</td>\n",
       "      <td>2</td>\n",
       "    </tr>\n",
       "    <tr>\n",
       "      <th>4</th>\n",
       "      <td>-1443</td>\n",
       "      <td>1065</td>\n",
       "      <td>2071</td>\n",
       "      <td>207</td>\n",
       "      <td>-865</td>\n",
       "      <td>-786</td>\n",
       "      <td>2655</td>\n",
       "      <td>-366</td>\n",
       "      <td>971</td>\n",
       "      <td>-341</td>\n",
       "      <td>...</td>\n",
       "      <td>4195</td>\n",
       "      <td>-117</td>\n",
       "      <td>-2694</td>\n",
       "      <td>14</td>\n",
       "      <td>4097</td>\n",
       "      <td>1356</td>\n",
       "      <td>-944</td>\n",
       "      <td>-602</td>\n",
       "      <td>2348</td>\n",
       "      <td>1</td>\n",
       "    </tr>\n",
       "  </tbody>\n",
       "</table>\n",
       "<p>5 rows × 21 columns</p>\n",
       "</div>"
      ],
      "text/plain": [
       "     V1    V2    V3    V4    V5    V6    V7    V8    V9   V10  ...   V12  \\\n",
       "0   849  2177   598  1689  3114 -3406  3799 -2642  1578  -181  ...  1633   \n",
       "1   947   543   782  -449    -8  1316   756   -61  1604  1686  ...  -382   \n",
       "2   759  -314   898 -1743  2003  1117   911   136  -489  -144  ...   112   \n",
       "3   531  1374   517  1226  1122    -4 -1227  2277  1083   888  ...  1063   \n",
       "4 -1443  1065  2071   207  -865  -786  2655  -366   971  -341  ...  4195   \n",
       "\n",
       "    V13   V14   V15   V16   V17   V18   V19   V20  Class  \n",
       "0  4664  1081 -1172  -166   578  1664   309 -3028      1  \n",
       "1  1259   608 -2292  1008  2687 -1422  -606  2374      2  \n",
       "2   598   474  2026  1431  -336    79  1123   302      2  \n",
       "3  2454   587  -744  1216   916  -476     6  -477      2  \n",
       "4  -117 -2694    14  4097  1356  -944  -602  2348      1  \n",
       "\n",
       "[5 rows x 21 columns]"
      ]
     },
     "execution_count": 32,
     "metadata": {},
     "output_type": "execute_result"
    }
   ],
   "source": [
    "data_ring = pd.read_csv(\"./ringnorm.csv\")\n",
    "\n",
    "data_ring.head()"
   ]
  },
  {
   "cell_type": "code",
   "execution_count": 33,
   "metadata": {},
   "outputs": [
    {
     "data": {
      "text/plain": [
       "array([[  849,  2177,   598, ...,  1664,   309, -3028],\n",
       "       [  947,   543,   782, ..., -1422,  -606,  2374],\n",
       "       [  759,  -314,   898, ...,    79,  1123,   302],\n",
       "       ...,\n",
       "       [-1854,  1225, -2469, ...,  2871, -3462,  1619],\n",
       "       [ 2604, -1541,  1298, ...,   606,   573,  -751],\n",
       "       [ -239,   472,  2795, ..., -2969,  -132,  3362]], dtype=int64)"
      ]
     },
     "execution_count": 33,
     "metadata": {},
     "output_type": "execute_result"
    }
   ],
   "source": [
    "X = data_ring.iloc[:,0:-1].to_numpy() # moving all the columns to Var X excpet the last column\n",
    "X"
   ]
  },
  {
   "cell_type": "code",
   "execution_count": 34,
   "metadata": {},
   "outputs": [
    {
     "data": {
      "text/plain": [
       "array([1, 2, 2, ..., 1, 2, 1], dtype=int64)"
      ]
     },
     "execution_count": 34,
     "metadata": {},
     "output_type": "execute_result"
    }
   ],
   "source": [
    "Y = data_ring.iloc[:,-1].to_numpy()# moving the last columns to Var Y \n",
    "Y # target var"
   ]
  },
  {
   "cell_type": "code",
   "execution_count": 35,
   "metadata": {},
   "outputs": [
    {
     "name": "stdout",
     "output_type": "stream",
     "text": [
      "[ -0.3739083   39.97980349 -31.91975983  31.61162664 -16.22570961\n",
      "  -4.18477074  -5.73771834   8.91348253 -45.59197598   5.35671397\n",
      "  11.78739083  -7.39737991 -26.45087336 -40.89383188   7.77128821\n",
      "   6.38045852  61.29803493 -51.01719432 -36.53629913  -5.5529476 ]\n",
      "[419.9370985  408.08324411 398.56076017 404.19593148 392.51900428\n",
      " 401.875      403.79148822 431.20476445 415.19138116 438.09743041\n",
      " 415.67826552 409.24009636 411.38195931 402.66407923 430.4866167\n",
      " 402.40872591 374.68415418 399.72992505 426.41488223 401.38517131]\n"
     ]
    }
   ],
   "source": [
    "org_label_cluster= Y\n",
    "org_label_cluster[np.where(Y==1)] = 0\n",
    "org_label_cluster[np.where(Y==2)] = 1\n",
    "centroid_b = X[np.where(Y==0)].mean(axis=0)\n",
    "print(centroid_b)\n",
    "centroid_g = X[np.where(Y==1)].mean(axis=0)\n",
    "print(centroid_g)"
   ]
  },
  {
   "cell_type": "code",
   "execution_count": 42,
   "metadata": {},
   "outputs": [
    {
     "name": "stdout",
     "output_type": "stream",
     "text": [
      "2\n",
      "3\n",
      "4\n",
      "5\n"
     ]
    },
    {
     "name": "stderr",
     "output_type": "stream",
     "text": [
      "<ipython-input-22-15c6009d299e>:71: RuntimeWarning: Mean of empty slice.\n",
      "  mui = X[np.where(label_cluster==i)].mean(axis=0)\n",
      "C:\\Users\\Neeraja\\anaconda3\\lib\\site-packages\\numpy\\core\\_methods.py:180: RuntimeWarning: invalid value encountered in true_divide\n",
      "  ret = um.true_divide(\n"
     ]
    }
   ],
   "source": [
    "iterator_count = {}\n",
    "error_conut = {}\n",
    "cluster_size = [2,3,4,5]\n",
    "for k in cluster_size:\n",
    "    error_conut[k] = np.random.rand()\n",
    "for k in cluster_size:\n",
    "    esp = 10**-2\n",
    "    print(k)\n",
    "    error_rate, run_count,p_den_fun = gaussian_mix(X, k, esp, 20,1, centroid_g, centroid_b, org_label_cluster)\n",
    "    iterator_count[k] = run_count\n",
    "    error_conut[k] = error_rate"
   ]
  },
  {
   "cell_type": "code",
   "execution_count": 43,
   "metadata": {
    "scrolled": true
   },
   "outputs": [
    {
     "data": {
      "image/png": "[encoded data removed]",
      "text/plain": [
       "<Figure size 432x288 with 1 Axes>"
      ]
     },
     "metadata": {
      "needs_background": "light"
     },
     "output_type": "display_data"
    }
   ],
   "source": [
    "fig, cor = plt.subplots()\n",
    "col  = [iterator_count[i] for i in cluster_size]\n",
    "\n",
    "cor.set_title('Cluster size vs Iteration')\n",
    "cor.boxplot(col,  vert=0)\n",
    "cor.set_xlim(0, 1000)\n",
    "plt.yticks([1, 2, 3, 4], cluster_size)\n",
    "cor.set_ylabel('Number of clusters(K)')\n",
    "cor.set_xlabel('Iteration Count')\n",
    "plt.show()"
   ]
  },
  {
   "cell_type": "code",
   "execution_count": 45,
   "metadata": {},
   "outputs": [
    {
     "data": {
      "image/png": "[encoded data removed]",
      "text/plain": [
       "<Figure size 432x288 with 1 Axes>"
      ]
     },
     "metadata": {
      "needs_background": "light"
     },
     "output_type": "display_data"
    }
   ],
   "source": [
    "fig, cor = plt.subplots()\n",
    "cluster_size = [2,3,4,5]\n",
    "col  = [error_conut[i] for i in cluster_size]\n",
    "\n",
    "cor.set_title('Cluster size vs Error rate')\n",
    "cor.boxplot(col,  vert=0)\n",
    "plt.yticks([1, 2, 3, 4], cluster_size)\n",
    "cor.set_ylabel('Number of clusters (K)')\n",
    "cor.set_xlabel('Error Rate')\n",
    "plt.show()"
   ]
  },
  {
   "cell_type": "markdown",
   "metadata": {},
   "source": [
    "### Problem 3: Algorithm Design [30pt]\n",
    "\n",
    "\n",
    "### Problem 3.1 \n",
    "##### Given a text D and a pattern P, describe an Ω(d+p) time method for finding the longest prefix of P that is a substring of D. The lengths of D and P are d and p, respectively.\n",
    "\n",
    "\n",
    "    Input: text D and a pattern P\n",
    "    Output: longest prefix of P that is a substring of D\n"
   ]
  },
  {
   "cell_type": "code",
   "execution_count": 2,
   "metadata": {},
   "outputs": [],
   "source": [
    "def fail_table(pattern):\n",
    "\n",
    "    l=0\n",
    "    longest_prefix = [0]*len(pattern)\n",
    "\n",
    "    for i in range(1,len(pattern)):\n",
    "\n",
    "        if pattern[l] == pattern[i]:\n",
    "            l+=1\n",
    "            longest_prefix[i] = l\n",
    "        else:\n",
    "            while l>0 and pattern[l-1]!=pattern[i]:\n",
    "                l=l-1\n",
    "            longest_prefix[i] = l\n",
    "    \n",
    "    return longest_prefix"
   ]
  },
  {
   "cell_type": "code",
   "execution_count": 3,
   "metadata": {},
   "outputs": [],
   "source": [
    "def kmp(pattern,text):\n",
    "\n",
    "    i = 0\n",
    "    j = 0\n",
    "    k = len(pattern)\n",
    "    max_prefix_len = 0\n",
    "    \n",
    "    longest_prefix=fail_table(pattern)\n",
    "    \n",
    "    while i<len(text):\n",
    "        if pattern[j] == text[i]:\n",
    "            i+=1\n",
    "            j+=1\n",
    "            max_prefix_len=max(max_prefix_len,j)\n",
    "        else:\n",
    "            while j>0 and pattern[j]!=text[i]:                \n",
    "                j=longest_prefix[j-1]\n",
    "            \n",
    "            if pattern[j]!=text[i] and j==0:                \n",
    "                i+=1\n",
    "        \n",
    "        if j==k:\n",
    "            return pattern[:k]    # return if whole string matches\n",
    "    \n",
    "    return pattern[:max_prefix_len]"
   ]
  },
  {
   "cell_type": "code",
   "execution_count": 4,
   "metadata": {},
   "outputs": [
    {
     "name": "stdout",
     "output_type": "stream",
     "text": [
      "Fail Table -  [0, 0, 0, 0, 1, 2, 3, 0, 1, 0, 1, 2]\n",
      "Longest prefix of P that is a substring of D => patt\n"
     ]
    }
   ],
   "source": [
    "P=\"pattpatepspa\" \n",
    "D=\"A simple patt in ptrn\" \n",
    "\n",
    "print(\"Fail Table - \",fail_table(P))\n",
    "\n",
    "result = kmp(P,D)\n",
    "print(\"Longest prefix of P that is a substring of D =>\", result)"
   ]
  },
  {
   "cell_type": "markdown",
   "metadata": {},
   "source": [
    "### Explanation -\n",
    "KMP runs in O(d+p) time for pattern searching. While comparing, we return the maximum prefix length that is matched and thus this algorithm runs in O(d+p) time too."
   ]
  },
  {
   "cell_type": "markdown",
   "metadata": {},
   "source": [
    "### Problem 3.2\n",
    "#### X, Y, and Z are three arrays and each has m elements. For an arbitrary integer t, describe O(m2logm)-time algorithm to determine if there exist numbers, x in X, y in Y, and z in Z, such that t = x+y+z.\n",
    "\n",
    "\n",
    "def binarySearch(arr, x, l, r):\n",
    "\n",
    "    if r >= l:\n",
    "        mid = l + (r - l) // 2\n",
    " \n",
    "        # If element is present at the middle itself\n",
    "        if arr[mid] == x:\n",
    "            return mid\n",
    "        \n",
    "        # If element is smaller than mid, then it\n",
    "        # can only be present in left subarray\n",
    "        elif arr[mid] > x:\n",
    "            return binarySearch(arr, l, mid-1, x)\n",
    "        \n",
    "        # Else the element can only be present\n",
    "        # in right subarray\n",
    "        else:\n",
    "            return binarySearch(arr, mid + 1, r, x)\n",
    "    \n",
    "    else:\n",
    "        # Element is not present in the array\n",
    "        return -1\n",
    "\n",
    "##### Reference - https://www.geeksforgeeks.org/binary-search/\n",
    "\n",
    "Algorithm:\n",
    "\n",
    "    Input: three arrays X,Y,Z of size m and integer T\n",
    "    Output: True if t=x+y+z exists in X,Y,Z else False\n",
    "\n",
    "    Sort Z     // Sorting for binary search - mlogm\n",
    "\n",
    "    for x in X:\n",
    "        for y in Y:    // m^2 time\n",
    "            to_search = t-x-y\n",
    "\n",
    "            isPresent = binarySearch(Z, to_search, 0, len(Z)-1)    // logm time\n",
    "\n",
    "            if(isPresent)\n",
    "                return True\n",
    "\n",
    "    return False\n",
    "    \n",
    "    \n",
    "##### Here the two for loops runs in O(m^2) time and the binary search takes logm time. The sorting algorithm runs in O(mlogm).\n",
    "##### Thus, overall the total time complexity is O(mlogm + m^2.logm) = O(m^2.logm)"
   ]
  },
  {
   "cell_type": "markdown",
   "metadata": {},
   "source": [
    "### Problem 3.3\n",
    "##### Describe an efficient algorithm for deleting a string from a compressed trie and analyze its running time.\n",
    "\n",
    "    ALPHABET_SIZE = 26\n",
    "    // trie node\n",
    "    class TrieNode\n",
    "    {\n",
    "        constructor()\n",
    "        {\n",
    "            this.children=[NULL]*ALPHABET_SIZE\n",
    "            this.wordCount=0\n",
    "        }\n",
    "    }\n",
    "    \n",
    "    \n",
    "Algorithm: CompressedTrieStringDelete(T, s)\n",
    "\n",
    "    Input: A compressed trie T and a string s\n",
    "    Output: T without s \n",
    "    \n",
    "    search the compressed trie for s\n",
    "\n",
    "    if s is not found then\n",
    "        return False     // string is not present\n",
    "    else\n",
    "        let U be the node where s was found\n",
    "\n",
    "        if s is not equal to the whole string ended at U (wordCount=0) or U has a child\n",
    "            return False    // we cannot delete an internal node\n",
    "\n",
    "        let P be the parent of U\n",
    "\n",
    "        delete u \n",
    "        if P has a child C then\n",
    "            // P.string denotes the string stored at a node P\n",
    "            P.string ← P.string + C.string\n",
    "            delete node C    // merge P and C into a single node\n",
    "\n",
    "        return True     // successful deletion\n",
    "\n",
    "Reference - https://www.coursehero.com/file/po3atj/Zubair-Shaikh-CS-600-WS-10444383-C-2311-Give-an-efficient-algorithm-for/\n",
    "\n",
    "\n",
    "##### Time complexity for deletion is dependent upon search time. \n",
    "##### Here, the search time complexity is O(key_length) wher key_length is the length of the string to be searched and is the dominant term. Deletion will take O(1) time as it contains changing or removing the links with the parent node only."
   ]
  }
 ],
 "metadata": {
  "kernelspec": {
   "display_name": "Python 3",
   "language": "python",
   "name": "python3"
  },
  "language_info": {
   "codemirror_mode": {
    "name": "ipython",
    "version": 3
   },
   "file_extension": ".py",
   "mimetype": "text/x-python",
   "name": "python",
   "nbconvert_exporter": "python",
   "pygments_lexer": "ipython3",
   "version": "3.7.1"
  }
 },
 "nbformat": 4,
 "nbformat_minor": 5
}

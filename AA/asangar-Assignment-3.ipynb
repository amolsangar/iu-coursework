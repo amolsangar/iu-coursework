{
 "cells": [
  {
   "cell_type": "markdown",
   "metadata": {},
   "source": [
    "### All the work herein is solely mine\n",
    "### Assignment Partner - Jyothsna Devanira"
   ]
  },
  {
   "cell_type": "markdown",
   "metadata": {},
   "source": [
    "# Problem 4 HW"
   ]
  },
  {
   "cell_type": "markdown",
   "metadata": {},
   "source": [
    "# Question 1\n",
    "### Explanation - Used map function to iterate through all elements and pass it to lambda function which returned the reciprocal of each elements. Finally the list was passed to s1(sum function) for calculation."
   ]
  },
  {
   "cell_type": "code",
   "execution_count": 1,
   "metadata": {},
   "outputs": [
    {
     "name": "stdout",
     "output_type": "stream",
     "text": [
      "15\n",
      "120\n",
      "2.283333333333333\n"
     ]
    }
   ],
   "source": [
    "def f(*x,**y):\n",
    "    def s1(x):\n",
    "        s = 0\n",
    "        if x:\n",
    "            for i in x:\n",
    "                s += i\n",
    "        return s\n",
    "    \n",
    "    def p1(x):\n",
    "        s = 1\n",
    "        if x:\n",
    "            for i in x:\n",
    "                s*= i\n",
    "        return s\n",
    "        \n",
    "    def rec_sum(x):\n",
    "        return s1(map(lambda x: 1/x, x))\n",
    "            \n",
    "    if y[\"action\"] == \"sum\":\n",
    "        return s1(*x)\n",
    "    elif y[\"action\"] == \"prod\":\n",
    "        return p1(*x)\n",
    "    elif y[\"action\"] == \"rec_sum\":\n",
    "        return rec_sum(*x)\n",
    "    else:\n",
    "        return \"Invalid operation\"\n",
    "\n",
    "if __name__ =='__main__':\n",
    "    xlst = [1,2,3,4,5]\n",
    "    print(f(xlst, action = \"sum\"))\n",
    "    print(f(xlst, action = \"prod\"))\n",
    "    print(f(xlst, action = \"rec_sum\"))"
   ]
  },
  {
   "cell_type": "markdown",
   "metadata": {},
   "source": [
    "# Question 2\n",
    "### Explanation - Took arguments from console named data and op. Converted 'data' from string array to int array and finally passed these values to the function through arguments"
   ]
  },
  {
   "cell_type": "code",
   "execution_count": null,
   "metadata": {},
   "outputs": [],
   "source": [
    "import argparse\n",
    "\n",
    "parser = argparse.ArgumentParser()\n",
    "\n",
    "parser.add_argument('-data', nargs='+', default = ['1'], help=\"List of←↩numbers\")\n",
    "parser.add_argument('-op', default = 'sum', help = \"sum, prod, rec_sum\")\n",
    "\n",
    "args = parser.parse_args()\n",
    "\n",
    "xlst = map(lambda d: int(d), args.data)\n",
    "op = args.op\n",
    "\n",
    "print(f(xlst, action = op))"
   ]
  },
  {
   "attachments": {
    "image.png": {
     "image/png": "[encoded data removed]"
    }
   },
   "cell_type": "markdown",
   "metadata": {},
   "source": [
    "### Output:\n",
    "\n",
    "![image.png](attachment:image.png)"
   ]
  },
  {
   "cell_type": "markdown",
   "metadata": {},
   "source": [
    "# Question 3\n",
    "### Explanation - Added __mul__ and cmul functions in class which calculates the complex number multiplication"
   ]
  },
  {
   "cell_type": "code",
   "execution_count": 2,
   "metadata": {},
   "outputs": [
    {
     "name": "stdout",
     "output_type": "stream",
     "text": [
      "(1-3i)\n",
      "(-1+3i)\n",
      "(1+3i)\n",
      "(-1-3i)\n",
      "(0+0i)\n",
      "0j\n",
      "(0+0i)\n",
      "(8+6i)\n",
      "(-9+13j)\n",
      "(10+0i)\n"
     ]
    }
   ],
   "source": [
    "class complex_:\n",
    "    def __init__(self, re=0, im=0):\n",
    "        self.re = re\n",
    "        self.im = im\n",
    "    \n",
    "    def get_re(self):\n",
    "        return self.re\n",
    "\n",
    "    def get_im(self):\n",
    "        return self.im\n",
    "\n",
    "    def __str__(self):\n",
    "        g = lambda x:\"+\" if x >= 0 else \"\"\n",
    "        return f\"({self.re}{g(self.im)}{self.im}i)\"\n",
    "\n",
    "    def cadd(self, other):\n",
    "        new_re = self.get_re() + other.get_re()\n",
    "        new_im = self.get_im() + other.get_im()\n",
    "        return complex_(new_re, new_im)\n",
    "\n",
    "    def __add__(self, other):\n",
    "        new_re = self.get_re() + other.get_re()\n",
    "        new_im = self.get_im() + other.get_im()\n",
    "        return complex_(new_re, new_im)\n",
    "    \n",
    "    def cmul(self, other):\n",
    "        new_re = self.get_re() * other.get_re() + (-1) * self.get_im() * other.get_im()\n",
    "        new_im = self.get_re() * other.get_im() + other.get_re() * self.get_im()\n",
    "        return complex_(new_re, new_im)\n",
    "    \n",
    "    def __mul__(self, other):\n",
    "        new_re = self.get_re() * other.get_re() + (-1) * self.get_im() * other.get_im()\n",
    "        new_im = self.get_re() * other.get_im() + other.get_re() * self.get_im()\n",
    "        return complex_(new_re, new_im)\n",
    "\n",
    "if __name__ == '__main__':\n",
    "\n",
    "    w = complex_(1,-3)\n",
    "    x = complex_(-1,3)\n",
    "    y = complex_(1,3)\n",
    "    z = complex_(-1,-3)\n",
    "    print(w)\n",
    "    print(x)\n",
    "    print(y)\n",
    "    print(z)\n",
    "\n",
    "    print(w.cadd(x).cadd(y).cadd(z))\n",
    "\n",
    "    print((1-3j) + (-1+3j) + (1+3j) + (-1-3j))\n",
    "\n",
    "    print(w + x + y + z)\n",
    "    \n",
    "    print(w.cmul(x))\n",
    "    \n",
    "    print((1+3j) * (3+4j))\n",
    "\n",
    "    print(w*y)"
   ]
  },
  {
   "cell_type": "markdown",
   "metadata": {},
   "source": [
    "# Question 4"
   ]
  },
  {
   "cell_type": "markdown",
   "metadata": {},
   "source": [
    "### <u> Analysis  </u>\n",
    "#### Generated a huge random array for testing at the start thus every algorithm gets the same set of input\n",
    "#### The run_average function takes the average functions as input after which it calculates and returns the running time over data. \n",
    "#### I have used matplotlibs loglog function to generate the line graph"
   ]
  },
  {
   "cell_type": "code",
   "execution_count": 3,
   "metadata": {},
   "outputs": [],
   "source": [
    "def average1(S):\n",
    "    n = len(S)\n",
    "    my_average = [0]*n\n",
    "    for j in range(n):\n",
    "        total = 0\n",
    "        for i in range(j + 1):\n",
    "            total += S[i]\n",
    "        my_average[j] = total / (j+1)\n",
    "    return my_average"
   ]
  },
  {
   "cell_type": "code",
   "execution_count": 4,
   "metadata": {},
   "outputs": [],
   "source": [
    "def average2(S):\n",
    "    n = len(S)\n",
    "    my_average= [0]*n\n",
    "    for j in range(n):\n",
    "        my_average[j] = sum(S[0:j+1]) / (j+1)\n",
    "    return my_average"
   ]
  },
  {
   "cell_type": "code",
   "execution_count": 5,
   "metadata": {},
   "outputs": [],
   "source": [
    "def average3(S):\n",
    "    n = len(S)\n",
    "    my_average = [0]*n\n",
    "    total = 0\n",
    "    for j in range(n):\n",
    "        total += S[j]\n",
    "        my_average[j] = total / (j+1)\n",
    "    return my_average"
   ]
  },
  {
   "cell_type": "markdown",
   "metadata": {},
   "source": [
    "## Note - The following code takes about 8-10 mins to complete."
   ]
  },
  {
   "cell_type": "code",
   "execution_count": 7,
   "metadata": {
    "scrolled": true
   },
   "outputs": [
    {
     "data": {
      "image/png": "[encoded data removed]",
      "text/plain": [
       "<Figure size 432x288 with 1 Axes>"
      ]
     },
     "metadata": {
      "needs_background": "light"
     },
     "output_type": "display_data"
    }
   ],
   "source": [
    "import matplotlib.pyplot as plt\n",
    "import numpy as np\n",
    "from random import seed\n",
    "from random import randint\n",
    "import time\n",
    "\n",
    "seed(1)\n",
    "\n",
    "data = []\n",
    "x_input = []\n",
    "data = [randint(0, 1000) for _ in range(100000) ]\n",
    "x_input = [i for i in range(5000,50001,5000)]\n",
    "\n",
    "def run_average(fn):\n",
    "    running_time = []\n",
    "    for i in range(5000,50001,5000):\n",
    "        input_arr = data[0:i]\n",
    "        start = time.time()\n",
    "        fn(input_arr)\n",
    "        end = time.time()\n",
    "        running_time.append(end-start)\n",
    "    return running_time\n",
    "    \n",
    "y_input_1 = run_average(average1)\n",
    "plt.loglog(x_input, y_input_1, label = \"average 1\")\n",
    "\n",
    "y_input_2 = run_average(average2)\n",
    "plt.loglog(x_input, y_input_2, label = \"average 2\")\n",
    "\n",
    "y_input_3 = run_average(average3)\n",
    "plt.loglog(x_input, y_input_3, label = \"average 3\")\n",
    "\n",
    "plt.xlabel('Input Size')\n",
    "plt.ylabel('Time in ms')\n",
    "plt.title('Time Complexity')\n",
    "plt.legend()\n",
    "plt.show()"
   ]
  },
  {
   "cell_type": "markdown",
   "metadata": {},
   "source": [
    "#### Time Complexity found - \n",
    "#### Average1 - O(n^2)\n",
    "#### Average2 - O(n^2)\n",
    "#### Average3 - O(n)"
   ]
  },
  {
   "cell_type": "markdown",
   "metadata": {},
   "source": [
    "# Question 5"
   ]
  },
  {
   "cell_type": "code",
   "execution_count": 8,
   "metadata": {},
   "outputs": [],
   "source": [
    "def algorithm1( S):\n",
    "    #S:sequence\n",
    "    for j in range(len(S)):\n",
    "        for k in range(j+1, len(S)):\n",
    "            if S[j] == S[k]:\n",
    "                return False\n",
    "    return True"
   ]
  },
  {
   "cell_type": "code",
   "execution_count": 9,
   "metadata": {},
   "outputs": [],
   "source": [
    "def algorithm2(S):\n",
    "    #S:sequence\n",
    "    S = sorted(S)\n",
    "    for j in range(1, len(S)):\n",
    "        if S[j-1] == S[j]:\n",
    "            return False\n",
    "    return True"
   ]
  },
  {
   "cell_type": "code",
   "execution_count": 10,
   "metadata": {},
   "outputs": [],
   "source": [
    "def algorithm3(S, start, stop):\n",
    "    #slice S[start:stop], S:sequence\n",
    "    if stop - start <= 1: return True\n",
    "    elif not algorithm3(S, start, stop-1): return False\n",
    "    elif not algorithm3(S, start+1, stop): return False\n",
    "    else: return S[start] != S[stop-1]"
   ]
  },
  {
   "cell_type": "markdown",
   "metadata": {},
   "source": [
    "### <u> Algorithm 1 analysis  </u>\n",
    "#### Generated a huge sequential array for worst case testing\n",
    "#### In each iteration run time is calculated for the sliced data after which the size of the data is increased in a controlled manner until 45 seconds has passed. Thus this gives the largest no of elements running under 45sec for this particular algorithm. The largest value varies each time but generally it is around 35000 elements.\n",
    "\n",
    "#### Time complexity is O(n^2) i.e. Quadratic Time Complexity since there are two 'for loop' used which iterates through all the elements "
   ]
  },
  {
   "cell_type": "code",
   "execution_count": 11,
   "metadata": {},
   "outputs": [
    {
     "name": "stdout",
     "output_type": "stream",
     "text": [
      "0\n",
      "0.0\n",
      "10000\n",
      "4.354361295700073\n",
      "20000\n",
      "17.5770206451416\n",
      "30000\n",
      "36.932293176651\n",
      "31000\n",
      "40.17864274978638\n",
      "31500\n",
      "41.98574781417847\n",
      "32000\n",
      "33.91699147224426\n",
      "37000\n",
      "44.300873041152954\n",
      "37100\n",
      "47.164945125579834\n",
      "\n",
      "Running time -  47.164945125579834\n",
      "Largest Input size -  37100\n"
     ]
    }
   ],
   "source": [
    "data = [i for i in range(100000000) ]\n",
    "\n",
    "no_of_secs = 45\n",
    "running_time = 0\n",
    "i = 0\n",
    "while True:\n",
    "    print(i)\n",
    "    input_data = data[0:i]\n",
    "    start = time.time()\n",
    "    algorithm1(input_data)\n",
    "    end = time.time()\n",
    "    running_time = (end-start)\n",
    "    print(running_time)\n",
    "    if(no_of_secs - int(running_time) > 20):\n",
    "        i += 10000\n",
    "    elif(no_of_secs - int(running_time) > 10):\n",
    "        i += 5000\n",
    "    elif(no_of_secs - int(running_time) > 5):\n",
    "        i += 1000\n",
    "    elif(no_of_secs - int(running_time) > 2):\n",
    "        i += 500\n",
    "    elif(no_of_secs - int(running_time) > 0):\n",
    "        i += 100\n",
    "    else:\n",
    "        break\n",
    "\n",
    "print(\"\\nRunning time - \", running_time)\n",
    "print(\"Largest Input size - \", i)"
   ]
  },
  {
   "cell_type": "markdown",
   "metadata": {},
   "source": [
    "### <u> Algorithm 2 analysis  </u>\n",
    "#### Generated a huge array in descending order for worst case testing\n",
    "#### Time complexity is O(n + nlogn) = O(nlogn) since sorted() takes nlogn time and is the dominant term\n",
    "#### Since there is an out of memory error to test it using a single list, I have run the same algorithm multiple times to get the intended result \n",
    "#### Here for input size = 50000000, the algorithm on my laptop takes around 6 secs and \n",
    "#### hence the maximum size it can run under 45 sec is near about -\n",
    "#### 8 x 50000000 = 400000000 elements"
   ]
  },
  {
   "cell_type": "code",
   "execution_count": 12,
   "metadata": {},
   "outputs": [
    {
     "name": "stdout",
     "output_type": "stream",
     "text": [
      "Time to run for input 50000000 -  6.206459283828735\n",
      "\n",
      "Running time -  47.77867794036865\n",
      "Largest input size to run under 45 secs is about  400000000\n"
     ]
    }
   ],
   "source": [
    "import math\n",
    "import time\n",
    "\n",
    "data = [i for i in range(100000000,0,-1) ]\n",
    "\n",
    "running_time = 0\n",
    "i = 50000000\n",
    "input_data = data[0:i]\n",
    "\n",
    "start = time.time()\n",
    "algorithm2(input_data)\n",
    "end = time.time()\n",
    "running_time = (end-start)\n",
    "print(\"Time to run for input 50000000 - \", running_time)\n",
    "\n",
    "no_of_times_to_run = math.ceil(45 / running_time)\n",
    "\n",
    "start = time.time()\n",
    "for i in range(0,no_of_times_to_run):\n",
    "    algorithm2(input_data)\n",
    "\n",
    "end = time.time()\n",
    "running_time = (end-start)\n",
    "\n",
    "print(\"\\nRunning time - \", running_time)\n",
    "print(\"Largest input size to run under 45 secs is about \", no_of_times_to_run * 50000000)"
   ]
  },
  {
   "cell_type": "markdown",
   "metadata": {},
   "source": [
    "### <u> Algorithm 3  </u>"
   ]
  },
  {
   "cell_type": "code",
   "execution_count": 13,
   "metadata": {},
   "outputs": [
    {
     "name": "stdout",
     "output_type": "stream",
     "text": [
      "1\n",
      "0.0\n",
      "2\n",
      "0.0\n",
      "3\n",
      "0.0\n",
      "4\n",
      "0.0\n",
      "5\n",
      "0.0\n",
      "6\n",
      "0.0\n",
      "7\n",
      "0.0\n",
      "8\n",
      "0.0\n",
      "9\n",
      "0.0010247230529785156\n",
      "10\n",
      "0.0\n",
      "11\n",
      "0.0\n",
      "12\n",
      "0.0009963512420654297\n",
      "13\n",
      "0.0009970664978027344\n",
      "14\n",
      "0.0030345916748046875\n",
      "15\n",
      "0.004994630813598633\n",
      "16\n",
      "0.01096963882446289\n",
      "17\n",
      "0.023888349533081055\n",
      "18\n",
      "0.04388070106506348\n",
      "19\n",
      "0.08980941772460938\n",
      "20\n",
      "0.18645238876342773\n",
      "21\n",
      "0.3760225772857666\n",
      "22\n",
      "0.7898623943328857\n",
      "23\n",
      "1.525949239730835\n",
      "24\n",
      "3.7978479862213135\n",
      "25\n",
      "6.591383695602417\n",
      "26\n",
      "14.385574340820312\n",
      "27\n",
      "25.807974576950073\n",
      "28\n",
      "55.21642231941223\n",
      "\n",
      "Running time array -  [0.0, 0.0, 0.0, 0.0, 0.0, 0.0, 0.0, 0.0, 0.0010247230529785156, 0.0, 0.0, 0.0009963512420654297, 0.0009970664978027344, 0.0030345916748046875, 0.004994630813598633, 0.01096963882446289, 0.023888349533081055, 0.04388070106506348, 0.08980941772460938, 0.18645238876342773, 0.3760225772857666, 0.7898623943328857, 1.525949239730835, 3.7978479862213135, 6.591383695602417, 14.385574340820312, 25.807974576950073, 55.21642231941223]\n",
      "Largest input size -  28\n"
     ]
    },
    {
     "data": {
      "image/png": "[encoded data removed]",
      "text/plain": [
       "<Figure size 432x288 with 1 Axes>"
      ]
     },
     "metadata": {
      "needs_background": "light"
     },
     "output_type": "display_data"
    }
   ],
   "source": [
    "import matplotlib.pyplot as plt\n",
    "\n",
    "data = [i for i in range(100000000) ]\n",
    "\n",
    "running_time = []\n",
    "\n",
    "largest_size = 0\n",
    "for i in range(1,1000):\n",
    "    print(i)\n",
    "    input_data = data[0:i]\n",
    "    start = time.time()\n",
    "    algorithm3(input_data, 0, len(input_data))\n",
    "    end = time.time()\n",
    "    print(end-start)\n",
    "    running_time.append(end-start)\n",
    "    if(int(end - start) > 45):\n",
    "        largest_size = i\n",
    "        break\n",
    "\n",
    "print(\"\\nRunning time array - \", running_time)\n",
    "print(\"Largest input size - \", largest_size)\n",
    "\n",
    "x_input = [j for j in range(1,largest_size+1)]\n",
    "plt.loglog(x_input, running_time, label = \"Algorithm 3\")\n",
    "\n",
    "plt.xlabel('Input Size')\n",
    "plt.ylabel('Time in ms')\n",
    "plt.title('Time Complexity')\n",
    "plt.legend()\n",
    "plt.show()"
   ]
  },
  {
   "cell_type": "markdown",
   "metadata": {},
   "source": [
    "### Analysis - \n",
    "### Looking at the graph and the running time array, we can see that the time complexity here is EXPONENTIAL,\n",
    "### and the largest size is 27 for the algorithm to successfully run under 45secs."
   ]
  }
 ],
 "metadata": {
  "kernelspec": {
   "display_name": "Python 3",
   "language": "python",
   "name": "python3"
  },
  "language_info": {
   "codemirror_mode": {
    "name": "ipython",
    "version": 3
   },
   "file_extension": ".py",
   "mimetype": "text/x-python",
   "name": "python",
   "nbconvert_exporter": "python",
   "pygments_lexer": "ipython3",
   "version": "3.7.1"
  }
 },
 "nbformat": 4,
 "nbformat_minor": 2
}

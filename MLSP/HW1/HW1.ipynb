{
 "cells": [
  {
   "cell_type": "markdown",
   "metadata": {},
   "source": [
    "## Homework 1\n",
    "\n",
    "## Amol Dattatray Sangar"
   ]
  },
  {
   "cell_type": "markdown",
   "metadata": {},
   "source": [
    "### P1: MLE for uniform distribution [4 points]\n",
    "\n",
    "<div class=\"alert alert-info\">\n",
    "    \n",
    "1. You took a class taught by Prof. K and found that only five students got an A+. You asked around and found their total scores which are as follows:\n",
    "                    [92, 95.8, 91.3, 94.1, 90.9]\n",
    "\n",
    "    You know that the pdf of a uniform distribution can be defined as follow:\n",
    "\n",
    "    p(x) =  1/b−a if a ≤ x ≤ b\n",
    "    \n",
    "    p(x) =  0 otherwise\n",
    "\n",
    "\n",
    "2. You assume that there must be an underlying uniform distribution for the A+ student group(which you don’t belong to unfortunately). Estimate the parameters b and a that maximize the likelihood of observing the five data samples you collected. Explain how you get your solution (Hint: you can solve this problem without writing up a program).\n",
    "\n",
    "\n",
    "3. Now that you are obsessed with someone else’ grades, you became to wonder what would be the actual boundary Prof. K used, because you feel that you were so close to get an A+. You have a feeling that he must have used some reasonable numbers, such as an integer multiple of 5 rather than a real-valued boundary. For example, the actual a and b values must have been, say, “from 70 to 85 get an A-”, rather than “from 72.9 to 88.32 get an A-.” Based on this prior knowledge, adjust your a and b values for the A+ students. Justify your choice. You don’t need to formally prove this. Instead, you could use some other choices to explain why they are worse than your answer.\n",
    "</div>"
   ]
  },
  {
   "cell_type": "markdown",
   "metadata": {},
   "source": [
    "**Goal**: To find the parameters a and b that maximize the likelihood of observing the five sample points\n",
    "\n",
    "The underlying uniform distribution and the PDF for the distribution can be represented as - \n",
    "\n",
    "$$\\mathscr{L}(a,b) = \\prod_{i=1}^{n}f(x_i;a,b)  = \\prod_{i=1}^{n}\\frac{1}{b-a} = \\frac{1}{(b-a)^n}$$\n",
    "\n",
    "We know that,\n",
    "$$a <= min(X_1,X_2,.....X_n)$$ \n",
    "$$b >= max(X_1,X_2,.......X_n)$$\n",
    "\n",
    "Taking log on both sides of the likelihood function,\n",
    "\n",
    "$$\\begin{aligned}\n",
    "\\log\\mathscr{L}(a,b)&=\\log\\prod_{i=1}^{n}f(x_i;a,b)\\\\\n",
    "&=\\log\\prod_{i=1}^{n}\\frac{1}{b-a}\\\\ \n",
    "&=log((b-a)^{-n})\\\\\n",
    "&= -n * log(b-a)\n",
    "\\end{aligned}$$\n",
    "\n",
    "Partially derivating the function with respect to a and b,\n",
    "\n",
    "$$\\frac{\\partial }{\\partial a} log \\mathscr{L}(a,b) = \\frac{n}{b-a}$$\n",
    "$$\\frac{\\partial }{\\partial b} log \\mathscr{L}(a,b) = -\\frac{n}{b-a}$$\n",
    "where n is the number of samples.\n",
    "\n",
    "From above,\n",
    "\\begin{gather*}\n",
    "N=5\\\\\n",
    "\\end{gather*}\n",
    "\n",
    "It can be seen that the function is monotonically increasing for a whereas it is monotonically decreasing for b. Also, the distribution is bounded between 90.9 (lowest value) and 95.8 (highest value).\n",
    "\n",
    "Therefore,\n",
    "\\begin{gather*}\n",
    "\\hat{a}_{MLE} = 90.9\\\\\n",
    "\\hat{b}_{MLE} = 95.8\n",
    "\\end{gather*}\n",
    "\n",
    "Prof K gives A+ to students who have their grades between 90 and 100. This can be established because Prof K uses rounded values in integer multiples of 5 which implies the boundaries are set in the same way. \n",
    "\n",
    "**Lowest score for A+ is 90.9 (rounded to 90)**\n",
    "\n",
    "**Highest score for A+ is 95.8 (rounded to 100)**"
   ]
  },
  {
   "cell_type": "markdown",
   "metadata": {},
   "source": [
    "---"
   ]
  },
  {
   "cell_type": "markdown",
   "metadata": {},
   "source": [
    "### P2: Central Limit Theorem [5 points]\n",
    "<div class=\"alert alert-info\">\n",
    "    \n",
    "1. Load the luddy.jpg file. It must be a 3655 × 6496 × 3 tensor, whose third dimension holds red, green and blue channels respectively. Let’s take the red channel, which will be a matrix of 3655 × 6496 elements.\n",
    "\n",
    "\n",
    "2. Take two patches from two random locations in the image. You may want to use a fairly large patch size, such as 100 × 100. Get an average patch out of these two—each of the pixel intensities of the averaged patch is the average of the two pixels at the same position in the two original patches. See the histogram of the pixel intensities (I would use matplotlib’s hist function. It is a way to see the sample distribution of your data, which is with 10,000 samples (i.e., the number of pixels in the averaged patch) in our case. Does it look like a Gaussian distribution?\n",
    "\n",
    "\n",
    "3. Now take 100 random patches and repeat the experiment. How does it look like? More Gaussian-like?\n",
    "\n",
    "\n",
    "4. How about 1000 patches?\n",
    "\n",
    "\n",
    "5. You know where we’re going. We’re talking about the central limit theorem. You must have built a feeling that some histogram is more Gaussian-looking than the others. Is there anyway to judge the level of Gaussianity in a more objective way? If you google about it, you’ll see some terms like kurtosis. For this homework, you’ll use the log-likelihood to measure the Gaussianity of the pixels in your three averaged patches (that are from 2, 100, and 1000 random patches, respectively).\n",
    "\n",
    "\n",
    "6. The MLE solution for the Gaussian parameters, mean and variance, is simple: the sample mean and the sample variance. Calculate them from your three averaged patches. \n",
    "\n",
    "\n",
    "7. Now you have three pairs of Gaussian parameters (sample mean and variance) for the three averaged patches. For each averaged patch, calculate the log-likelihood of observing the 10,000 pixel intensities based . Use your MLE parameters. Compare the three log-likelihoods. Which one is with the highest log-likelihood value? What does this mean (in terms of the central limit theorem)?\n",
    "\n",
    "</div>"
   ]
  },
  {
   "cell_type": "code",
   "execution_count": 1,
   "metadata": {},
   "outputs": [],
   "source": [
    "from PIL import Image\n",
    "import matplotlib.pyplot as plt\n",
    "import random\n",
    "import numpy as np\n",
    "import math"
   ]
  },
  {
   "cell_type": "code",
   "execution_count": 2,
   "metadata": {},
   "outputs": [],
   "source": [
    "# read image to array\n",
    "im = np.array(Image.open('luddy.jpg'))"
   ]
  },
  {
   "cell_type": "code",
   "execution_count": 3,
   "metadata": {},
   "outputs": [
    {
     "data": {
      "text/plain": [
       "(3655, 6496, 3)"
      ]
     },
     "execution_count": 3,
     "metadata": {},
     "output_type": "execute_result"
    }
   ],
   "source": [
    "im.shape"
   ]
  },
  {
   "cell_type": "code",
   "execution_count": 4,
   "metadata": {},
   "outputs": [
    {
     "data": {
      "text/plain": [
       "(3655, 6496)"
      ]
     },
     "execution_count": 4,
     "metadata": {},
     "output_type": "execute_result"
    }
   ],
   "source": [
    "red_channel = im[:, :, 0]\n",
    "red_channel.shape"
   ]
  },
  {
   "cell_type": "code",
   "execution_count": 5,
   "metadata": {},
   "outputs": [],
   "source": [
    "def get_patch(no_of_patches):\n",
    "    region = []\n",
    "    for i in range(0,no_of_patches):\n",
    "        x = random.randint(0, red_channel.shape[0] - 100)\n",
    "        y = random.randint(0, red_channel.shape[1] - 100)\n",
    "\n",
    "        image_crop_width = 100\n",
    "\n",
    "        # box = (x,y,x+image_crop_width,y+image_crop_width)     # (left, upper, right, lower)\n",
    "        # region.append(pil_im.crop(box))    # To crop image\n",
    "        \n",
    "        region.append(red_channel[x:x+image_crop_width,y:y+image_crop_width])\n",
    "    \n",
    "    return region"
   ]
  },
  {
   "cell_type": "code",
   "execution_count": 6,
   "metadata": {},
   "outputs": [],
   "source": [
    "#least likelihood\n",
    "def ll_norm(mu, sigma, data):\n",
    "    n = len(data)\n",
    "    ll = n*math.log(2*math.pi*(sigma**2))/2 + np.sum(((data-mu)**2)/(2 * (sigma**2))) - (0.5*np.log(2*np.pi) + np.log(sigma))\n",
    "    return -ll"
   ]
  },
  {
   "cell_type": "code",
   "execution_count": 7,
   "metadata": {},
   "outputs": [],
   "source": [
    "def calc_mean_std(patch_avg):\n",
    "    rows = len(patch_avg)\n",
    "    cols = len(patch_avg[0])\n",
    "    n = rows*cols\n",
    "\n",
    "    mean = np.mean(patch_avg)\n",
    "    \n",
    "    square = 0\n",
    "    for r in range (rows):\n",
    "        for c in range(cols):\n",
    "            square += np.square(patch_avg[r][c] - mean)\n",
    "    \n",
    "    std = np.sqrt(square/n)\n",
    "    \n",
    "    return (mean, std)"
   ]
  },
  {
   "cell_type": "markdown",
   "metadata": {},
   "source": [
    "### 2 random patches"
   ]
  },
  {
   "cell_type": "code",
   "execution_count": 8,
   "metadata": {},
   "outputs": [],
   "source": [
    "# get 2 random patches from luddy.jpg image\n",
    "patch_2 = get_patch(2)"
   ]
  },
  {
   "cell_type": "code",
   "execution_count": 9,
   "metadata": {},
   "outputs": [
    {
     "data": {
      "text/plain": [
       "(100, 100)"
      ]
     },
     "execution_count": 9,
     "metadata": {},
     "output_type": "execute_result"
    }
   ],
   "source": [
    "patch_2[0].shape"
   ]
  },
  {
   "cell_type": "code",
   "execution_count": 10,
   "metadata": {
    "scrolled": true
   },
   "outputs": [],
   "source": [
    "patch_2_avg = np.mean(patch_2, axis=0)"
   ]
  },
  {
   "cell_type": "code",
   "execution_count": 11,
   "metadata": {},
   "outputs": [
    {
     "data": {
      "image/png": "[encoded data removed]",
      "text/plain": [
       "<Figure size 432x288 with 1 Axes>"
      ]
     },
     "metadata": {
      "needs_background": "light"
     },
     "output_type": "display_data"
    }
   ],
   "source": [
    "plt.hist(patch_2_avg.flatten(), 64)\n",
    "plt.show()"
   ]
  },
  {
   "cell_type": "code",
   "execution_count": 12,
   "metadata": {},
   "outputs": [],
   "source": [
    "mean_2,std_2 = calc_mean_std(patch_2_avg)\n",
    "log_2 = ll_norm(mean_2,std_2,patch_2_avg)"
   ]
  },
  {
   "cell_type": "code",
   "execution_count": 13,
   "metadata": {},
   "outputs": [
    {
     "name": "stdout",
     "output_type": "stream",
     "text": [
      "Mean for averages of 2 patches is :  191.5342\n",
      "Variance for average of 2 patches is :  114.1952803599993\n",
      "Log Likelihood for average of 2 patches is :  -5325.501458229132\n"
     ]
    }
   ],
   "source": [
    "print(\"Mean for averages of 2 patches is : \",mean_2)\n",
    "print(\"Variance for average of 2 patches is : \",np.square(std_2))\n",
    "print(\"Log Likelihood for average of 2 patches is : \",log_2)"
   ]
  },
  {
   "cell_type": "markdown",
   "metadata": {},
   "source": [
    "### 100 random patches"
   ]
  },
  {
   "cell_type": "code",
   "execution_count": 14,
   "metadata": {},
   "outputs": [],
   "source": [
    "# get 100 random patches from luddy.jpg image\n",
    "patch_100 = get_patch(100)"
   ]
  },
  {
   "cell_type": "code",
   "execution_count": 15,
   "metadata": {},
   "outputs": [],
   "source": [
    "patch_100_avg = np.mean(patch_100, axis=0)"
   ]
  },
  {
   "cell_type": "code",
   "execution_count": 16,
   "metadata": {},
   "outputs": [
    {
     "data": {
      "image/png": "[encoded data removed]",
      "text/plain": [
       "<Figure size 432x288 with 1 Axes>"
      ]
     },
     "metadata": {
      "needs_background": "light"
     },
     "output_type": "display_data"
    }
   ],
   "source": [
    "plt.hist(patch_100_avg.flatten(), 64)\n",
    "plt.show()"
   ]
  },
  {
   "cell_type": "code",
   "execution_count": 17,
   "metadata": {},
   "outputs": [],
   "source": [
    "mean_100,std_100 = calc_mean_std(patch_100_avg)\n",
    "log_100 = ll_norm(mean_100,std_100,patch_100_avg)"
   ]
  },
  {
   "cell_type": "code",
   "execution_count": 18,
   "metadata": {},
   "outputs": [
    {
     "name": "stdout",
     "output_type": "stream",
     "text": [
      "Mean for averages of 100 patches is :  147.80105600000002\n",
      "Variance for average of 100 patches is :  6.195531344864039\n",
      "Log Likelihood for average of 100 patches is :  -5181.254414714399\n"
     ]
    }
   ],
   "source": [
    "print(\"Mean for averages of 100 patches is : \",mean_100)\n",
    "print(\"Variance for average of 100 patches is : \",np.square(std_100))\n",
    "print(\"Log Likelihood for average of 100 patches is : \",log_100)"
   ]
  },
  {
   "cell_type": "markdown",
   "metadata": {},
   "source": [
    "### 1000 random patches"
   ]
  },
  {
   "cell_type": "code",
   "execution_count": 19,
   "metadata": {},
   "outputs": [],
   "source": [
    "# get 1000 random patches from luddy.jpg image\n",
    "patch_1000 = get_patch(1000)"
   ]
  },
  {
   "cell_type": "code",
   "execution_count": 20,
   "metadata": {},
   "outputs": [],
   "source": [
    "patch_1000_avg = np.mean(patch_1000, axis=0)"
   ]
  },
  {
   "cell_type": "code",
   "execution_count": 21,
   "metadata": {},
   "outputs": [
    {
     "data": {
      "image/png": "[encoded data removed]",
      "text/plain": [
       "<Figure size 432x288 with 1 Axes>"
      ]
     },
     "metadata": {
      "needs_background": "light"
     },
     "output_type": "display_data"
    }
   ],
   "source": [
    "plt.hist(patch_1000_avg.flatten(), 64)\n",
    "plt.show()"
   ]
  },
  {
   "cell_type": "code",
   "execution_count": 22,
   "metadata": {},
   "outputs": [],
   "source": [
    "mean_1000,std_1000 = calc_mean_std(patch_1000_avg)\n",
    "log_1000 = ll_norm(mean_1000,std_1000,patch_1000_avg)"
   ]
  },
  {
   "cell_type": "code",
   "execution_count": 23,
   "metadata": {},
   "outputs": [
    {
     "name": "stdout",
     "output_type": "stream",
     "text": [
      "Mean for averages of 1000 patches is :  150.6742594\n",
      "Variance for average of 1000 patches is :  0.9825851473116362\n",
      "Log Likelihood for average of 1000 patches is :  -5090.105285171644\n"
     ]
    }
   ],
   "source": [
    "print(\"Mean for averages of 1000 patches is : \",mean_1000)\n",
    "print(\"Variance for average of 1000 patches is : \",np.square(std_1000))\n",
    "print(\"Log Likelihood for average of 1000 patches is : \",log_1000)"
   ]
  },
  {
   "cell_type": "markdown",
   "metadata": {},
   "source": [
    "### Observation: \n",
    "### The histogram looks more Gaussian with more no of random patches/samples. This can also be seen by the negative log likelihood values.  "
   ]
  },
  {
   "cell_type": "markdown",
   "metadata": {},
   "source": [
    "---"
   ]
  },
  {
   "cell_type": "markdown",
   "metadata": {},
   "source": [
    "### P3: Gradient Ascent for Eigendecomposition [6 points]"
   ]
  },
  {
   "cell_type": "markdown",
   "metadata": {},
   "source": [
    "<div class=\"alert alert-info\">\n",
    "Implement expectation-maximization algorithm for Gaussian mixture models (see the EM algorithm below) in Python and call this program Gk. As you present your code explain your protocol for - \n",
    "    \n",
    "<br>1. Although you learned power iteration as an optimzation tool for your eigendecomposition problem, this time I’d ask you to implement someting slightly different based on gradient descent (actually, gradient ascent).\n",
    "    \n",
    "<br>2. I prepared 1,000 randomly generated samples from a 2D Gaussian distribution (X.mat)1.\n",
    "\n",
    "<br>3. Draw a scatter plot using matplotlib.pyplot.scatter to eyeball this football-shaped distribution. I ask you to find two eigenvectors from this sample distribution.\n",
    "</div>"
   ]
  },
  {
   "cell_type": "code",
   "execution_count": 24,
   "metadata": {},
   "outputs": [],
   "source": [
    "from scipy import io\n",
    "import numpy as np\n",
    "import matplotlib.pyplot as plt\n",
    "import os"
   ]
  },
  {
   "cell_type": "code",
   "execution_count": 25,
   "metadata": {},
   "outputs": [],
   "source": [
    "X = io.loadmat(os.path.join('./', 'X.mat'))"
   ]
  },
  {
   "cell_type": "code",
   "execution_count": 26,
   "metadata": {},
   "outputs": [
    {
     "data": {
      "text/plain": [
       "dict_keys(['__header__', '__version__', '__globals__', 'X'])"
      ]
     },
     "execution_count": 26,
     "metadata": {},
     "output_type": "execute_result"
    }
   ],
   "source": [
    "X.keys()"
   ]
  },
  {
   "cell_type": "code",
   "execution_count": 27,
   "metadata": {},
   "outputs": [],
   "source": [
    "X = X['X']"
   ]
  },
  {
   "cell_type": "code",
   "execution_count": 28,
   "metadata": {},
   "outputs": [
    {
     "data": {
      "text/plain": [
       "(2, 1000)"
      ]
     },
     "execution_count": 28,
     "metadata": {},
     "output_type": "execute_result"
    }
   ],
   "source": [
    "X.shape"
   ]
  },
  {
   "cell_type": "code",
   "execution_count": 29,
   "metadata": {},
   "outputs": [
    {
     "data": {
      "image/png": "[encoded data removed]",
      "text/plain": [
       "<Figure size 432x288 with 1 Axes>"
      ]
     },
     "metadata": {
      "needs_background": "light"
     },
     "output_type": "display_data"
    }
   ],
   "source": [
    "# SCATTER PLOT\n",
    "plt.scatter(X[0], X[1])\n",
    "plt.title('Scatter plot of X.mat')\n",
    "plt.show()"
   ]
  },
  {
   "cell_type": "markdown",
   "metadata": {},
   "source": [
    "<div class=\"alert alert-info\">\n",
    "    4. You know, power iteration first finds the eigenvector that’s associated with the largest eigenvalue. Let’s mimic the process. First off, since we do this using gradients, you need to initialize parameters of your model, i.e., the elements of the first eigenvector that you are looking for, w(1) ∈ R2, with random numbers. It should be a vector of two elements, as you have two dimensions in the original data space. Use random samples from a standard normal distribution to initialize them. \n",
    "</div>"
   ]
  },
  {
   "cell_type": "code",
   "execution_count": 30,
   "metadata": {},
   "outputs": [],
   "source": [
    "# INITIALIZING W1 RANDOMLY\n",
    "W1 = np.random.normal(size = (1,X.shape[0]))    # size = (1,2)\n",
    "W1 = (W1[0])"
   ]
  },
  {
   "cell_type": "markdown",
   "metadata": {},
   "source": [
    "<div class=\"alert alert-info\">\n",
    "    5. One condition you have to remember is that w(1) has to be a unit vector, meaning its L2-norm should be 1. Make sure that by normalizing it after initialization.\n",
    "</div>"
   ]
  },
  {
   "cell_type": "code",
   "execution_count": 31,
   "metadata": {},
   "outputs": [
    {
     "name": "stdout",
     "output_type": "stream",
     "text": [
      "[-0.29163232  0.9565305 ]\n"
     ]
    }
   ],
   "source": [
    "# NORMALIZING\n",
    "W1 = W1 / np.sqrt((W1[0]**2 + W1[1]**2))\n",
    "print(W1)"
   ]
  },
  {
   "cell_type": "code",
   "execution_count": 44,
   "metadata": {},
   "outputs": [
    {
     "name": "stdout",
     "output_type": "stream",
     "text": [
      "1.0\n",
      "1.0\n"
     ]
    }
   ],
   "source": [
    "# CHECK L-2 NORMALIZATION == 1\n",
    "print(np.linalg.norm(W1))\n",
    "print(np.sqrt(np.sum(W1**2)))"
   ]
  },
  {
   "cell_type": "markdown",
   "metadata": {},
   "source": [
    "<div class=\"alert alert-info\">\n",
    "\n",
    "6. Project your data samples to your randomly-initialized-and-then-normalized eigenvector (meaning it’s not quite yet an eigenvector). Do it anyway. Let the resulting row vector be z = (w(1))⊤X.\n",
    "\n",
    "\n",
    "7. You know, by definition, your eigenvalue is λ(1) = (w(1))⊤XX⊤w(1) = zz⊤. Since for now we are looking for the largest eigenvalue, we would like to maximize this value, which is our optimization goal.\n",
    "\n",
    "\n",
    "8. Differentiate this objective function, λ(1), with respect to your parameters w(1). The derivative is the gradient direction. If you are not familiar with differentiating a linear algebra notation, revisit M01-C03-S05, where I gave you an example very similar to this case.\n",
    "\n",
    "\n",
    "9. Using the gradient direction, update your parameter. Your learning rate should be a small number so that the update is gradual. Be careful with the sign of the gradient. This time, you are MAXIMIZING your objective function, rather than MINIMIZING it. So, the update algorithm is actually gradient ascent, not descent.\n",
    "\n",
    "\n",
    "10. Another tricky part is the constraint that the eigenvector has to be a unit vector. There must be a different (better) way to enforce it, but for now let’s be handwavy: normalize the newly updated parameter vector w(1) to make sure its L2-norm is 1 like you did during the initialization process.\n",
    "\n",
    "\n",
    "11. Repeat above process (P3.6-10) multiple times until the absolute values of your gradient updates are consistently too small.\n",
    "\n",
    "</div>"
   ]
  },
  {
   "cell_type": "code",
   "execution_count": 33,
   "metadata": {},
   "outputs": [],
   "source": [
    "def eigen_decomposition(X, w):\n",
    "    alpha = 0.001\n",
    "    i = 0\n",
    "    max_iterations = 1000\n",
    "    \n",
    "    while i <= max_iterations:\n",
    "        lambda_diff = 2 * np.dot(np.dot(X, X.T), w)    # 2 * (X * X.T) * w\n",
    "        w = w + (alpha * lambda_diff)    # Update w using learning rate (alpha)\n",
    "        w = w / np.sqrt(np.sum(w**2))    # L-2 NORMALIZATION\n",
    "        i += 1\n",
    "        \n",
    "    return lambda_diff, w"
   ]
  },
  {
   "cell_type": "code",
   "execution_count": 34,
   "metadata": {},
   "outputs": [
    {
     "name": "stdout",
     "output_type": "stream",
     "text": [
      "The first eigen value is: [-2341.70373615  2349.48603084]\n",
      "The first eigen vector is: [-0.70593278  0.70827884]\n"
     ]
    }
   ],
   "source": [
    "eigen_value_1, W1 = eigen_decomposition(X, W1)\n",
    "\n",
    "print('The first eigen value is: ' + str(eigen_value_1))\n",
    "print('The first eigen vector is: ' + str(W1))"
   ]
  },
  {
   "cell_type": "code",
   "execution_count": 35,
   "metadata": {},
   "outputs": [
    {
     "name": "stdout",
     "output_type": "stream",
     "text": [
      "The largest eigen value is: 1658.5883302531922\n"
     ]
    }
   ],
   "source": [
    "largest_eigen_value = np.dot(X, X.T)\n",
    "largest_eigen_value = np.dot(W1.T, largest_eigen_value)\n",
    "largest_eigen_value = np.dot(largest_eigen_value, W1)\n",
    "\n",
    "print('The largest eigen value is: ' + str(largest_eigen_value))"
   ]
  },
  {
   "cell_type": "code",
   "execution_count": 36,
   "metadata": {},
   "outputs": [],
   "source": [
    "# Calculating 's', 'u' and the contribution of the first eigen vector\n",
    "\n",
    "def calc_su(w, X):\n",
    "    s1 = np.sqrt(np.sum(np.dot(w.T,X)**2))\n",
    "    u1 = np.dot(X.T, w)/s1\n",
    "    contrib = np.dot(s1,u1.T)\n",
    "    w, contrib = w.reshape(-1,1), contrib.reshape(-1,1)\n",
    "    contrib = np.dot(w, contrib.T)\n",
    "    return s1, u1, contrib"
   ]
  },
  {
   "cell_type": "code",
   "execution_count": 37,
   "metadata": {},
   "outputs": [],
   "source": [
    "s1, u1, contrib = calc_su(W1, X)"
   ]
  },
  {
   "cell_type": "code",
   "execution_count": 38,
   "metadata": {},
   "outputs": [
    {
     "name": "stdout",
     "output_type": "stream",
     "text": [
      "(2, 1000)\n"
     ]
    }
   ],
   "source": [
    "# Removing the contribution of the first eigen vector from the original matrix\n",
    "\n",
    "X_minus_EV = X - contrib\n",
    "print(X_minus_EV.shape)"
   ]
  },
  {
   "cell_type": "code",
   "execution_count": 39,
   "metadata": {},
   "outputs": [
    {
     "data": {
      "image/png": "[encoded data removed]",
      "text/plain": [
       "<Figure size 432x432 with 1 Axes>"
      ]
     },
     "metadata": {
      "needs_background": "light"
     },
     "output_type": "display_data"
    }
   ],
   "source": [
    "# Plotting the new data matrix along with the eigen vector\n",
    "\n",
    "plt.figure(figsize = (6,6))\n",
    "plt.scatter(X_minus_EV[0], X_minus_EV[1])\n",
    "ax = plt.arrow(0,0,W1[0],W1[1],head_width = 0.1, head_length = 0.1,fc = 'black', ec= 'yellow')\n",
    "plt.title('Scatter plot of the new data matrix with the first eigen vector')\n",
    "plt.show()"
   ]
  },
  {
   "cell_type": "markdown",
   "metadata": {},
   "source": [
    "<div class=\"alert alert-info\">\n",
    "    \n",
    "12. Now let’s move on to the next eigenvector. Revisit M01-C02-S12 to remind yourself of the process of “taking of the effect of the first eigenvector (or equivalently the first singular vector).” Once you subtract the contribution of the first eigenvector, your X won’t have any variation along the direction defined by the first eigenvector. Do another scatter plot to examine your thought.\n",
    "\n",
    "\n",
    "13. Repeat your gradient ascent-based eigendecomposition process on the new X matrix which doesn’t contain any compoent from the first eigenvector. It will give you w(2), the eigenvector associated with the second largest eigenvalue. \n",
    "\n",
    "\n",
    "14. Let’s go back to the first scatter plot you drew, which showed you the football-shaped sampledistribution of the original dataset. Overlay the two eigenvectors you found as lines, so that your AI can verify that your solution, i.e., the directions of the two eigenvectors you found, is correct. It is going to be basically looking like two arrows starting from the origin, while pointing to the direction defined by the eigenvectors. They are overlayed on top of the point cloud.\n",
    "\n",
    "\n",
    "15. Include all the intermediate plots that I asked you to draw to your report.\n",
    "</div>"
   ]
  },
  {
   "cell_type": "code",
   "execution_count": 40,
   "metadata": {},
   "outputs": [
    {
     "name": "stdout",
     "output_type": "stream",
     "text": [
      "[ 0.20910004 -0.97789425]\n"
     ]
    }
   ],
   "source": [
    "# INITIALIZING W2 RANDOMLY\n",
    "\n",
    "W2 = np.random.normal(size = (1,X.shape[0]))[0]    # size = (1,2)\n",
    "W2 = W2/np.sqrt(np.sum(W2**2))\n",
    "print(W2)"
   ]
  },
  {
   "cell_type": "code",
   "execution_count": 41,
   "metadata": {},
   "outputs": [
    {
     "name": "stdout",
     "output_type": "stream",
     "text": [
      "The second eigen value is: [-411.35794507 -409.99538802]\n",
      "The second eigen vector is: [-0.70827884 -0.70593278]\n"
     ]
    }
   ],
   "source": [
    "eigen_value_2, W2 = eigen_decomposition(X_minus_EV, W2)\n",
    "\n",
    "print('The second eigen value is: ' + str(eigen_value_2))\n",
    "print('The second eigen vector is: ' + str(W2))"
   ]
  },
  {
   "cell_type": "code",
   "execution_count": 42,
   "metadata": {},
   "outputs": [
    {
     "name": "stdout",
     "output_type": "stream",
     "text": [
      "The largest eigen value for second vector is: 290.39265536970765\n"
     ]
    }
   ],
   "source": [
    "largest_eigen_value_2 = np.dot(X, X.T)\n",
    "largest_eigen_value_2 = np.dot(W2.T, largest_eigen_value_2)\n",
    "largest_eigen_value_2 = np.dot(largest_eigen_value_2, W2)\n",
    "\n",
    "print('The largest eigen value for second vector is: ' + str(largest_eigen_value_2))"
   ]
  },
  {
   "cell_type": "code",
   "execution_count": 43,
   "metadata": {},
   "outputs": [
    {
     "data": {
      "image/png": "[encoded data removed]",
      "text/plain": [
       "<Figure size 720x720 with 1 Axes>"
      ]
     },
     "metadata": {
      "needs_background": "light"
     },
     "output_type": "display_data"
    }
   ],
   "source": [
    "# Plotting the data points with the two eigen vectors\n",
    "\n",
    "plt.figure(figsize = (10,10))\n",
    "plt.scatter(X[0], X[1])\n",
    "plt.arrow(0,0,W1[0],W1[1],head_width = 0.2, head_length = 0.2,fc = 'black', ec= 'yellow')\n",
    "plt.arrow(0,0,W2[0],W2[1],head_width = 0.2, head_length = 0.2,fc = 'black', ec= 'red')\n",
    "plt.title('Scatter plot with two eigen vectors')\n",
    "plt.show()"
   ]
  },
  {
   "cell_type": "markdown",
   "metadata": {},
   "source": [
    "#### The two eigen vectors can be seen orthonormal to each other"
   ]
  }
 ],
 "metadata": {
  "kernelspec": {
   "display_name": "Python 3",
   "language": "python",
   "name": "python3"
  },
  "language_info": {
   "codemirror_mode": {
    "name": "ipython",
    "version": 3
   },
   "file_extension": ".py",
   "mimetype": "text/x-python",
   "name": "python",
   "nbconvert_exporter": "python",
   "pygments_lexer": "ipython3",
   "version": "3.7.1"
  }
 },
 "nbformat": 4,
 "nbformat_minor": 2
}

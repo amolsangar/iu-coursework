{
 "cells": [
  {
   "cell_type": "code",
   "execution_count": 44,
   "metadata": {},
   "outputs": [],
   "source": [
    "import os\n",
    "import numpy as np\n",
    "import scipy.io as sio\n",
    "import scipy\n",
    "from scipy import signal\n",
    "from scipy.spatial import distance as hamm_dist"
   ]
  },
  {
   "cell_type": "code",
   "execution_count": 146,
   "metadata": {},
   "outputs": [],
   "source": [
    "def STFT(x,N):\n",
    "    \n",
    "    hann_w = signal.hann(N)    # Hann Window\n",
    "    hann_w = hann_w.reshape(np.shape(hann_w)[0],1)\n",
    "    \n",
    "    for i in range(0,x.shape[2]):\n",
    "        horz = np.array([10000])\n",
    "        horz = horz.reshape((horz.shape[0],1))\n",
    "        \n",
    "        for j in range(0,x.shape[1]):   \n",
    "            mat_X = np.zeros((N,1))\n",
    "            temp = x[:,j][:,i]\n",
    "            \n",
    "            for k in range(0,x.shape[0],48):\n",
    "                if np.shape(temp[k:N+k])[0] == 32:\n",
    "                    sample_window = temp[k:N+k]\n",
    "                    sample_window = sample_window.reshape(np.shape(sample_window)[0],1)\n",
    "                    \n",
    "                    data_window = sample_window * hann_w    # element-wise multiplication\n",
    "                    data_window = data_window.reshape(np.shape(data_window)[0],1)\n",
    "                    \n",
    "                    mat_X = np.hstack((mat_X,data_window))\n",
    "            \n",
    "            X_slice = mat_X[:,1:][3:8,:]\n",
    "            \n",
    "            for l in range(0,5):\n",
    "                temp = X_slice[l]\n",
    "                horz = np.vstack((horz,temp.reshape((temp.shape[0],1))))\n",
    "\n",
    "            if(horz[0] == 10000):\n",
    "                horz = horz[1:]\n",
    "        \n",
    "        if i == 0:\n",
    "            result = np.zeros((len(horz),1))\n",
    "            result = np.hstack((result,horz))\n",
    "        else:\n",
    "            result = np.hstack((result,horz))\n",
    "    \n",
    "    return result[:,1:]"
   ]
  },
  {
   "cell_type": "code",
   "execution_count": 154,
   "metadata": {},
   "outputs": [],
   "source": [
    "# Calculate matrix A\n",
    "def calc_mat_A(L,M):\n",
    "    \n",
    "    # To generate the same result on every run\n",
    "    np.random.seed(1235)\n",
    "    \n",
    "    A = np.random.uniform(-1,1,L)\n",
    "    for i in range(len(M) - 1):\n",
    "        A_rand = np.random.uniform(-1,1,L)\n",
    "        A = np.vstack((A,A_rand))\n",
    "    \n",
    "    sum_A = []\n",
    "    for i in range(len(M)):\n",
    "        sum_A.append(sum(A[i]))\n",
    "    \n",
    "    sum_A = np.array(sum_A)\n",
    "    inv_sum_A = 1/sum_A\n",
    "    \n",
    "    res = A * inv_sum_A[:, np.newaxis]\n",
    "    return res.T\n",
    "\n",
    "# Calculate sign matrix Y\n",
    "def calc_mat_Y(A,Z):\n",
    "    Y = np.dot(A,Z)\n",
    "    Y_sign = np.sign(Y)\n",
    "    \n",
    "    return Y,Y_sign\n",
    "\n",
    "# Compare bit strings \n",
    "def calc_distance(Y,Y_test):\n",
    "    dist = np.zeros((Y_test.shape[1],Y.shape[1]))\n",
    "    dist = [[hamm_dist.hamming(Y_test[:,i],Y[:,j]) for j in range(dist.shape[1])] for i in range(dist.shape[0])]\n",
    "    dist = np.array(dist)\n",
    "    \n",
    "    sorted_dist = dist.argsort()\n",
    "    \n",
    "    res = np.zeros((Y_test.shape[1],Y.shape[1]))\n",
    "    res = [[y_train[sorted_dist[i][j], 0] for j in range(Y.shape[1])] for i in range(Y_test.shape[1])]    \n",
    "    res = np.array(res)\n",
    "    \n",
    "    return res"
   ]
  },
  {
   "cell_type": "markdown",
   "metadata": {},
   "source": [
    "#### Load data"
   ]
  },
  {
   "cell_type": "code",
   "execution_count": 155,
   "metadata": {},
   "outputs": [],
   "source": [
    "eeg = scipy.io.loadmat('data/eeg.mat')\n",
    "\n",
    "x_train = eeg['x_train']\n",
    "x_test = eeg['x_te']\n",
    "\n",
    "y_train = eeg['y_train']\n",
    "y_test = eeg['y_te']"
   ]
  },
  {
   "cell_type": "markdown",
   "metadata": {},
   "source": [
    "#### Execution"
   ]
  },
  {
   "cell_type": "code",
   "execution_count": 183,
   "metadata": {},
   "outputs": [
    {
     "name": "stdout",
     "output_type": "stream",
     "text": [
      "ACCURACY TABLE\n",
      "\n",
      "-----------------------------------\n",
      "| L=90 | K=03 | Accuracy = 0.7857 |\n",
      "| L=40 | K=19 | Accuracy = 0.7143 |\n",
      "| L=75 | K=21 | Accuracy = 0.7143 |\n",
      "| L=40 | K=07 | Accuracy = 0.6786 |\n",
      "| L=40 | K=21 | Accuracy = 0.6786 |\n",
      "| L=40 | K=17 | Accuracy = 0.6429 |\n",
      "| L=45 | K=15 | Accuracy = 0.6429 |\n",
      "| L=65 | K=07 | Accuracy = 0.6429 |\n",
      "| L=90 | K=05 | Accuracy = 0.6429 |\n",
      "| L=90 | K=07 | Accuracy = 0.6429 |\n",
      "| L=90 | K=09 | Accuracy = 0.6429 |\n",
      "| L=15 | K=13 | Accuracy = 0.6071 |\n",
      "| L=15 | K=17 | Accuracy = 0.6071 |\n",
      "| L=35 | K=07 | Accuracy = 0.6071 |\n",
      "| L=45 | K=17 | Accuracy = 0.6071 |\n",
      "-----------------------------------\n"
     ]
    }
   ],
   "source": [
    "# Initialize variables\n",
    "N = 32\n",
    "L = 100\n",
    "K = 22\n",
    "\n",
    "Z = STFT(x_train,N)\n",
    "Z_test = STFT(x_test,N)\n",
    "\n",
    "accuracy = []\n",
    "for i in range(10,L,5):\n",
    "    for j in range(3,K,2):\n",
    "        temp = []\n",
    "        \n",
    "        l = i\n",
    "        k = j\n",
    "        \n",
    "        A = calc_mat_A(l,Z)\n",
    "        \n",
    "        Y,Y_sign = calc_mat_Y(A,Z)\n",
    "        Y_test,Y_test_sign = calc_mat_Y(A,Z_test)\n",
    "        \n",
    "        index_mat = calc_distance(Y_sign,Y_test_sign)\n",
    "        k_index_mat = index_mat[:,0:k]        \n",
    "        \n",
    "        y_test_pred = np.zeros((y_test.shape[0],1))\n",
    "        for p in range(0,28):\n",
    "            y_test_pred[p] = np.median(k_index_mat[p,:])\n",
    "\n",
    "        count = 0    \n",
    "        for p in range(0,28):\n",
    "            if y_test_pred[p] == y_test[p]:\n",
    "                count+=1\n",
    "\n",
    "        acc = count/28\n",
    "        \n",
    "        temp.extend([i,j,acc])\n",
    "        accuracy.append(temp)\n",
    "\n",
    "sorted_reverse_accuracy = sorted(accuracy,key=lambda l:l[-1], reverse=True)\n",
    "\n",
    "print(\"ACCURACY TABLE\\n\")\n",
    "print(\"-----------------------------------\")\n",
    "for i in range(len(sorted_reverse_accuracy[0:15])):\n",
    "    print('| L=' + str(sorted_reverse_accuracy[i][0]).zfill(2) + ' | K=' + str(sorted_reverse_accuracy[i][1]).zfill(2) + ' | Accuracy = ' + str(round(sorted_reverse_accuracy[i][2], 4)) + ' |')\n",
    "\n",
    "print(\"-----------------------------------\")"
   ]
  },
  {
   "cell_type": "code",
   "execution_count": null,
   "metadata": {},
   "outputs": [],
   "source": []
  },
  {
   "cell_type": "code",
   "execution_count": null,
   "metadata": {},
   "outputs": [],
   "source": []
  },
  {
   "cell_type": "code",
   "execution_count": null,
   "metadata": {},
   "outputs": [],
   "source": []
  },
  {
   "cell_type": "code",
   "execution_count": null,
   "metadata": {},
   "outputs": [],
   "source": []
  },
  {
   "cell_type": "code",
   "execution_count": null,
   "metadata": {},
   "outputs": [],
   "source": []
  },
  {
   "cell_type": "code",
   "execution_count": null,
   "metadata": {},
   "outputs": [],
   "source": []
  },
  {
   "cell_type": "code",
   "execution_count": null,
   "metadata": {},
   "outputs": [],
   "source": []
  }
 ],
 "metadata": {
  "kernelspec": {
   "display_name": "Python 3",
   "language": "python",
   "name": "python3"
  },
  "language_info": {
   "codemirror_mode": {
    "name": "ipython",
    "version": 3
   },
   "file_extension": ".py",
   "mimetype": "text/x-python",
   "name": "python",
   "nbconvert_exporter": "python",
   "pygments_lexer": "ipython3",
   "version": "3.7.1"
  }
 },
 "nbformat": 4,
 "nbformat_minor": 2
}
